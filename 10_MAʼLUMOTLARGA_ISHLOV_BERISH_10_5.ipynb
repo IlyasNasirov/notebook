{
  "nbformat": 4,
  "nbformat_minor": 0,
  "metadata": {
    "colab": {
      "provenance": [],
      "include_colab_link": true
    },
    "kernelspec": {
      "name": "python3",
      "display_name": "Python 3"
    },
    "language_info": {
      "name": "python"
    }
  },
  "cells": [
    {
      "cell_type": "markdown",
      "metadata": {
        "id": "view-in-github",
        "colab_type": "text"
      },
      "source": [
        "<a href=\"https://colab.research.google.com/github/IlyasNasirov/notebook/blob/main/10_MA%CA%BCLUMOTLARGA_ISHLOV_BERISH_10_5.ipynb\" target=\"_parent\"><img src=\"https://colab.research.google.com/assets/colab-badge.svg\" alt=\"Open In Colab\"/></a>"
      ]
    },
    {
      "cell_type": "markdown",
      "source": [
        "![Imgur](https://i.imgur.com/h4PPC71.png)\n",
        "#**10-modul. Maʼlumotlarga ishlov berish. Fayllar va maʼlumotlar ombori**\n",
        "#10.5. Fayldan oʻqish va unga yozish. HDF5\n",
        "**Bu vazifalarni bajargach, CSV, Excel va HDF5 formatlarida fayllarni oʻqish hamda saqlash, yaʼni data processing (ma’lumotlarga ishlov berish) koʻnikmasini oʻzlashtirasiz.**\n",
        "\n",
        "\n",
        "\n",
        "\n",
        "\n",
        "\n",
        "\n",
        "\n",
        "\n",
        "\n",
        "\n"
      ],
      "metadata": {
        "id": "QLOWV-cSv7iV"
      }
    },
    {
      "cell_type": "markdown",
      "source": [
        "\n",
        "#1-topshiriq\n",
        "\n",
        "\n",
        "1.    Quyidagi link orqali maʼlumotlarni Pandas dataframeʼiga yuklab oling.\n",
        "    \n",
        "  *   https://raw.githubusercontent.com/alishermutalov/praktikum-datasets/refs/heads/praktikum/data_date.csv\n",
        "\n",
        "\n",
        "\n",
        "2.   Yuklab olingan maʼlumotlarni `aqi.csv` fayliga saqlang.\n",
        "\n",
        "3. Saqlab olingan `aqi.csv` faylining oxirgi 5 ta qatorini oʻqing.\n",
        "\n",
        "Eslatma: fayl nomini `aqi.csv` deb saqlaganimizning sababi AQI – Air Quality Index, yaʼni havo sifati indeksi deganidir. Bizning maʼlumotlarimizda davlatlarning havo sifati haqidagi maʼlumotlar saqlangan!"
      ],
      "metadata": {
        "id": "BeCmkaEhwpZc"
      }
    },
    {
      "cell_type": "code",
      "execution_count": null,
      "metadata": {
        "id": "HCPvZ9JVv6xh"
      },
      "outputs": [],
      "source": [
        "import pandas as pd\n",
        "url = \"https://raw.githubusercontent.com/alishermutalov/praktikum-datasets/refs/heads/praktikum/data_date.csv\"\n",
        "#javobni shu yerda yozing."
      ]
    },
    {
      "cell_type": "markdown",
      "source": [
        "#2-topshiriq\n",
        "1. Saqlab olingan `aqi.csv` faylidagi maʼlumotlarning faqat 2024-yilga tegishlisini excel faylga `aqi_2024.xlsx` koʻrinishida saqlab oling.\n",
        "2. Saqlab olingan `aqi_2024.xlsx` faylidan Oʻzbekistonga tegishli maʼlumotni (qatorlarni) oʻqing."
      ],
      "metadata": {
        "id": "FnQocRhq4acH"
      }
    },
    {
      "cell_type": "code",
      "source": [
        "#javobni shu yerda yozing."
      ],
      "metadata": {
        "id": "12426JZt4h_A"
      },
      "execution_count": null,
      "outputs": []
    },
    {
      "cell_type": "markdown",
      "source": [
        "#3-topshiriq\n",
        "1. `aqi.csv` faylidagi maʼlumotlarni oʻrganib chiqsangiz, bu faylda 2022–2025-yillar oraligʻidagi havo sifati haqidagi maʼlumotlarni koʻrishingiz mumkin. Hozir sizga vazifa:\n",
        "  * `aqi_2022.csv`, `aqi_2023.csv`, `aqi_2024.csv`, `aqi_2025.csv`  fayllariga `aqi.csv` faylidagi maʼlumotlarning mos davrlarini saqlang. Misol uchun, `aqi_2022` fayli 2022-yildagi havo sifati haqidagi maʼlumotlarni oʻzida saqlaydi.\n",
        "  "
      ],
      "metadata": {
        "id": "6rPyy4b274V7"
      }
    },
    {
      "cell_type": "code",
      "source": [
        "#javobni shu yerda yozing."
      ],
      "metadata": {
        "id": "JzmLM98a_yEe"
      },
      "execution_count": null,
      "outputs": []
    },
    {
      "cell_type": "markdown",
      "source": [
        "#4-topshiriq\n",
        "1. Saqlab olingan `aqi_2022.csv`, `aqi_2023.csv`, `aqi_2024.csv`, `aqi_2025.csv`  fayllarini HDF5 formatida saqlang. Fayl nomini `aqi.h5` deb nomlang. Kalit (key) sifatida fayllarning yillarini bering. Misol uchun, key=2025."
      ],
      "metadata": {
        "id": "odeg9jKu_3lc"
      }
    },
    {
      "cell_type": "code",
      "source": [
        "#javobni shu yerda yozing."
      ],
      "metadata": {
        "id": "KEVKJF--BO26"
      },
      "execution_count": null,
      "outputs": []
    },
    {
      "cell_type": "markdown",
      "source": [
        "#5-topshiriq\n",
        "1. `aqi.h5` faylidan maʼlumotlarni oʻqing va 2025-yilga tegishli maʼlumotlarni yangi dataframeʼga saqlang.\n",
        "2. `aqi.h5` faylida 2025-yilning qaysi oylari uchun maʼlumotlar bor? Shu oylar roʻyxatini ekranga chiqaring!"
      ],
      "metadata": {
        "id": "gnsz_gG3BdsM"
      }
    },
    {
      "cell_type": "code",
      "source": [
        "#javobni shu yerda yozing."
      ],
      "metadata": {
        "id": "ip4Wyp5RCbyF"
      },
      "execution_count": null,
      "outputs": []
    }
  ]
}