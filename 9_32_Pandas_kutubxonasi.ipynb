{
  "nbformat": 4,
  "nbformat_minor": 0,
  "metadata": {
    "colab": {
      "provenance": [],
      "include_colab_link": true
    },
    "kernelspec": {
      "name": "python3",
      "display_name": "Python 3"
    },
    "language_info": {
      "name": "python"
    }
  },
  "cells": [
    {
      "cell_type": "markdown",
      "metadata": {
        "id": "view-in-github",
        "colab_type": "text"
      },
      "source": [
        "<a href=\"https://colab.research.google.com/github/IlyasNasirov/notebook/blob/main/9_32_Pandas_kutubxonasi.ipynb\" target=\"_parent\"><img src=\"https://colab.research.google.com/assets/colab-badge.svg\" alt=\"Open In Colab\"/></a>"
      ]
    },
    {
      "cell_type": "markdown",
      "source": [
        "![Imgur](https://i.imgur.com/h4PPC71.png)\n",
        "\n",
        "#Data Sayns va Sunʼiy Intellekt Praktikum\n",
        "\n",
        "#9.32. Pandas kutubxonasi boʻyicha amaliy vazifa.\n",
        "\n",
        "Yengillik yaratish maqsadida topshiriqlarni `📌Mavzulashtirilgan`"
      ],
      "metadata": {
        "id": "k-wg58lT3IuO"
      }
    },
    {
      "cell_type": "markdown",
      "source": [
        "## `📌Pandas kutubxonasini yuklash`\n",
        "\n",
        "**1.** Pandas kutubxonasini `pd` nomi ostida yuklang va uni chop eting."
      ],
      "metadata": {
        "id": "loNFiQaN5ON7"
      }
    },
    {
      "cell_type": "code",
      "execution_count": null,
      "metadata": {
        "id": "KlhL3wXO2KwW"
      },
      "outputs": [],
      "source": [
        "import pandas as pd"
      ]
    },
    {
      "cell_type": "markdown",
      "source": [
        "**2.** Versiya va konfiguratsiyani tekshiring."
      ],
      "metadata": {
        "id": "7sdF8P3i6Mjn"
      }
    },
    {
      "cell_type": "code",
      "source": [],
      "metadata": {
        "id": "G_HPA6Uz6XKH",
        "colab": {
          "base_uri": "https://localhost:8080/",
          "height": 36
        },
        "outputId": "8acdb734-ccfe-4c3a-a152-9aaf45ca3870"
      },
      "execution_count": null,
      "outputs": [
        {
          "output_type": "execute_result",
          "data": {
            "text/plain": [
              "'1.5.3'"
            ],
            "application/vnd.google.colaboratory.intrinsic+json": {
              "type": "string"
            }
          },
          "metadata": {},
          "execution_count": 2
        }
      ]
    },
    {
      "cell_type": "markdown",
      "source": [
        "**3.** Pandas kutubxonasida mavjud boʻlgan barcha versiya maʼlumotlarini chop eting."
      ],
      "metadata": {
        "id": "KUw4Ju9H6jeA"
      }
    },
    {
      "cell_type": "code",
      "source": [],
      "metadata": {
        "id": "zSxaU78l6y5R",
        "colab": {
          "base_uri": "https://localhost:8080/",
          "height": 186
        },
        "outputId": "ee4a309d-631d-4a5c-dc3a-9cd95d2fc427"
      },
      "execution_count": null,
      "outputs": [
        {
          "output_type": "execute_result",
          "data": {
            "text/plain": [
              "<function pandas.util._print_versions.show_versions(as_json: 'str | bool' = False) -> 'None'>"
            ],
            "text/html": [
              "<div style=\"max-width:800px; border: 1px solid var(--colab-border-color);\"><style>\n",
              "      pre.function-repr-contents {\n",
              "        overflow-x: auto;\n",
              "        padding: 8px 12px;\n",
              "        max-height: 500px;\n",
              "      }\n",
              "\n",
              "      pre.function-repr-contents.function-repr-contents-collapsed {\n",
              "        cursor: pointer;\n",
              "        max-height: 100px;\n",
              "      }\n",
              "    </style>\n",
              "    <pre style=\"white-space: initial; background:\n",
              "         var(--colab-secondary-surface-color); padding: 8px 12px;\n",
              "         border-bottom: 1px solid var(--colab-border-color);\"><b>pandas.util._print_versions.show_versions</b><br/>def show_versions(as_json: str | bool=False) -&gt; None</pre><pre class=\"function-repr-contents function-repr-contents-collapsed\" style=\"\"><a class=\"filepath\" style=\"display:none\" href=\"#\">/usr/local/lib/python3.10/dist-packages/pandas/util/_print_versions.py</a>Provide useful information, important for bug reports.\n",
              "\n",
              "It comprises info about hosting operation system, pandas version,\n",
              "and versions of other installed relative packages.\n",
              "\n",
              "Parameters\n",
              "----------\n",
              "as_json : str or bool, default False\n",
              "    * If False, outputs info in a human readable form to the console.\n",
              "    * If str, it will be considered as a path to a file.\n",
              "      Info will be written to that file in JSON format.\n",
              "    * If True, outputs info in JSON format to the console.</pre>\n",
              "      <script>\n",
              "      if (google.colab.kernel.accessAllowed && google.colab.files && google.colab.files.view) {\n",
              "        for (const element of document.querySelectorAll('.filepath')) {\n",
              "          element.style.display = 'block'\n",
              "          element.onclick = (event) => {\n",
              "            event.preventDefault();\n",
              "            event.stopPropagation();\n",
              "            google.colab.files.view(element.textContent, 93);\n",
              "          };\n",
              "        }\n",
              "      }\n",
              "      for (const element of document.querySelectorAll('.function-repr-contents')) {\n",
              "        element.onclick = (event) => {\n",
              "          event.preventDefault();\n",
              "          event.stopPropagation();\n",
              "          element.classList.toggle('function-repr-contents-collapsed');\n",
              "        };\n",
              "      }\n",
              "      </script>\n",
              "      </div>"
            ]
          },
          "metadata": {},
          "execution_count": 3
        }
      ]
    },
    {
      "cell_type": "markdown",
      "source": [
        "## `📌DataFrame: Asoslar`\n",
        "\n",
        "DataFramesʼda maʼlumotlarni tanlash (selecting), saralash (sorting), qoʻshish (adding) va yigʻish (aggregating) uchun bir nechta asosiy mashqlar.\n",
        "\n",
        "💡Eslatma: NumPy kutubxonasini import qilishni unutmang.\n",
        "``` python\n",
        "import numpy as np\n",
        "```\n",
        "\n",
        "Quyidagi Python lugʻati (dictionary) `data` va Python roʻyxati (list) `labels` ni koʻrib chiqing.\n",
        "\n",
        "\n",
        "``` python\n",
        "data = {'animal': ['cat', 'cat', 'snake', 'dog', 'dog', 'cat', 'snake', 'cat', 'dog', 'dog'],\n",
        "        'age': [2.5, 3, 0.5, np.nan, 5, 2, 4.5, np.nan, 7, 3],\n",
        "        'visits': [1, 3, 2, 3, 2, 3, 1, 1, 2, 1],\n",
        "        'priority': ['yes', 'yes', 'no', 'yes', 'no', 'no', 'no', 'yes', 'no', 'no']}\n",
        "\n",
        "labels = ['a', 'b', 'c', 'd', 'e', 'f', 'g', 'h', 'i', 'j']\n",
        "```\n",
        "\n"
      ],
      "metadata": {
        "id": "FE1WM5tv7IAW"
      }
    },
    {
      "cell_type": "code",
      "source": [],
      "metadata": {
        "id": "Ew5U-HsGtlSP"
      },
      "execution_count": null,
      "outputs": []
    },
    {
      "cell_type": "code",
      "source": [],
      "metadata": {
        "id": "fSbVfMTprBRo"
      },
      "execution_count": null,
      "outputs": []
    },
    {
      "cell_type": "markdown",
      "source": [
        "**4.** Ushbu `lugʻat` (dictionary) yordamida `data` dan `labels` indeksiga ega DataFrame yarating."
      ],
      "metadata": {
        "id": "I-sQqjsEWqH8"
      }
    },
    {
      "cell_type": "code",
      "source": [
        "import numpy as np\n",
        "\n",
        "data = {'animal': ['cat', 'cat', 'snake', 'dog', 'dog', 'cat', 'snake', 'cat', 'dog', 'dog'],\n",
        "        'age': [2.5, 3, 0.5, np.nan, 5, 2, 4.5, np.nan, 7, 3],\n",
        "        'visits': [1, 3, 2, 3, 2, 3, 1, 1, 2, 1],\n",
        "        'priority': ['yes', 'yes', 'no', 'yes', 'no', 'no', 'no', 'yes', 'no', 'no']}\n",
        "\n",
        "labels = ['a', 'b', 'c', 'd', 'e', 'f', 'g', 'h', 'i', 'j']\n",
        "\n",
        "df = # (Dasturni davom ettiring!)"
      ],
      "metadata": {
        "id": "qAyjNW-TYj_O"
      },
      "execution_count": null,
      "outputs": []
    },
    {
      "cell_type": "markdown",
      "source": [
        "**5.** Ushbu DataFrame va uning maʼlumotlari haqidagi asosiy maʼlumotlarning qisqacha mazmunini koʻrsating.\n",
        "\n",
        "`💡Ishora:` DataFrameʼda chaqirilishi mumkin boʻlgan yagona usul mavjud."
      ],
      "metadata": {
        "id": "qqkr6CnUYuDA"
      }
    },
    {
      "cell_type": "code",
      "source": [],
      "metadata": {
        "id": "-FybHrHst7tF"
      },
      "execution_count": null,
      "outputs": []
    },
    {
      "cell_type": "markdown",
      "source": [
        "**6.** DataFrame `df` dastlabki 3 qatorini qaytaring."
      ],
      "metadata": {
        "id": "ATWpnkdPfLql"
      }
    },
    {
      "cell_type": "code",
      "source": [],
      "metadata": {
        "id": "zoc38z_Na2GN"
      },
      "execution_count": null,
      "outputs": []
    },
    {
      "cell_type": "code",
      "source": [],
      "metadata": {
        "id": "x0-WzS9WuIGU"
      },
      "execution_count": null,
      "outputs": []
    },
    {
      "cell_type": "markdown",
      "source": [
        "**7.** DataFrame `df`ʼdan faqat `animal` va `age` ustunlarini tanlang."
      ],
      "metadata": {
        "id": "AOBlGGnBXjME"
      }
    },
    {
      "cell_type": "code",
      "source": [],
      "metadata": {
        "id": "mhXMdjqC9_u6"
      },
      "execution_count": null,
      "outputs": []
    },
    {
      "cell_type": "markdown",
      "source": [
        "**8.** `[3, 4, 8]` va `['animal', 'age']` qatorlaridagi maʼlumotlarni tanlang."
      ],
      "metadata": {
        "id": "b_ATYbcVbJWR"
      }
    },
    {
      "cell_type": "code",
      "source": [],
      "metadata": {
        "id": "MxaWtISIbEcc"
      },
      "execution_count": null,
      "outputs": []
    },
    {
      "cell_type": "markdown",
      "source": [
        "**9.** Faqat `visits` soni 3 tadan koʻp boʻlgan qatorlarni tanlang."
      ],
      "metadata": {
        "id": "WuCD7tPqcU3c"
      }
    },
    {
      "cell_type": "code",
      "source": [],
      "metadata": {
        "id": "NsbE4IXtclPm"
      },
      "execution_count": null,
      "outputs": []
    },
    {
      "cell_type": "markdown",
      "source": [
        "10. Yosh yoʻqolgan qatorlarni tanlang, yaʼni `NaN`."
      ],
      "metadata": {
        "id": "I5JR1484dM9m"
      }
    },
    {
      "cell_type": "code",
      "source": [],
      "metadata": {
        "id": "ljI_0EpidMRV"
      },
      "execution_count": null,
      "outputs": []
    },
    {
      "cell_type": "markdown",
      "source": [
        "**11.** `animal` qatoridagi `cat` va `age` qatoridagi `3` dan kichik boʻlgan umumiy qatorlarni tanlang."
      ],
      "metadata": {
        "id": "HiCT4089eVDF"
      }
    },
    {
      "cell_type": "code",
      "source": [],
      "metadata": {
        "id": "msnPzl_Qe3UT"
      },
      "execution_count": null,
      "outputs": []
    },
    {
      "cell_type": "markdown",
      "source": [
        "**12.** `age` 2 va 4 (shu jumladan) orasidagi qatorlarni tanlang."
      ],
      "metadata": {
        "id": "AKvZAF1ue5DQ"
      }
    },
    {
      "cell_type": "code",
      "source": [],
      "metadata": {
        "id": "eyu9uhEkfHyX"
      },
      "execution_count": null,
      "outputs": []
    },
    {
      "cell_type": "markdown",
      "source": [
        "**13.** `f` qatoridagi yoshni `1,5` ga oʻzgartiring."
      ],
      "metadata": {
        "id": "vQLVYkEzfJIV"
      }
    },
    {
      "cell_type": "code",
      "source": [],
      "metadata": {
        "id": "nLGJ2_nGfIwI"
      },
      "execution_count": null,
      "outputs": []
    },
    {
      "cell_type": "markdown",
      "source": [
        "**14.** `df` yordamida `visits` qatorining yigʻindisini hisoblang."
      ],
      "metadata": {
        "id": "2hhe5n8Ofhsg"
      }
    },
    {
      "cell_type": "code",
      "source": [],
      "metadata": {
        "id": "kq-v9ntkf0x1"
      },
      "execution_count": null,
      "outputs": []
    },
    {
      "cell_type": "markdown",
      "source": [
        "**15.** Har bir `animal` uchun oʻrtacha yoshni `df` da hisoblang."
      ],
      "metadata": {
        "id": "OqIovNDzgnYS"
      }
    },
    {
      "cell_type": "code",
      "source": [],
      "metadata": {
        "id": "013-dSK4gm1l"
      },
      "execution_count": null,
      "outputs": []
    },
    {
      "cell_type": "markdown",
      "source": [
        "**16.** `df` yordamida har bir turdagi `animal` sonini hisoblang."
      ],
      "metadata": {
        "id": "z7xyeyHtgtQR"
      }
    },
    {
      "cell_type": "code",
      "source": [],
      "metadata": {
        "id": "6n_Ese6bhD8-"
      },
      "execution_count": null,
      "outputs": []
    },
    {
      "cell_type": "markdown",
      "source": [
        "**17.** `animal` ustunida, `snake` soʻzini `python` soʻziga oʻzgartiring."
      ],
      "metadata": {
        "id": "08iUPbLChLs4"
      }
    },
    {
      "cell_type": "code",
      "source": [],
      "metadata": {
        "id": "wpB4tx1HhLAD"
      },
      "execution_count": null,
      "outputs": []
    },
    {
      "cell_type": "markdown",
      "source": [
        "## `📌DataFrame: Murakkab`\n",
        "\n",
        "### Darajasi murakkabroq vazifa: toʻgʻri javob olish uchun ikki yoki undan ortiq usullarni birlashtirish kerak boʻlishi mumkin\n",
        "\n",
        "Oldingi boʻlim DataFrameʼning asosiy, ammo muhim operatsiyalari boʻyicha vazifalari jamlagan edi. Quyida maʼlumotlarni kesishingiz kerak boʻlgan mashqlar mavjud."
      ],
      "metadata": {
        "id": "KFl6Z8wthsiM"
      }
    },
    {
      "cell_type": "markdown",
      "source": [
        "**18.** Sizda butun sonlardan iborat `A` ustunli DataFrame `df` mavjud. Misol uchun:\n",
        "```python\n",
        "df = pd.DataFrame({'A': [1, 2, 2, 3, 4, 5, 5, 5, 6, 7, 7]})\n",
        "```\n",
        "\n",
        "Yuqoridagi qator bilan bir xil butun sonni oʻz ichiga olgan qator yarating.\n",
        "\n",
        "\n",
        "💡Sizda quyidagi qiymatlarni oʻz ichiga olgan ustun paydo boʻlishi kerak:\n",
        "\n",
        "```python\n",
        "1, 2, 3, 4, 5, 6, 7\n",
        "```"
      ],
      "metadata": {
        "id": "zzWMfSzqieof"
      }
    },
    {
      "cell_type": "code",
      "source": [],
      "metadata": {
        "id": "tcrSzGB5kVb6"
      },
      "execution_count": null,
      "outputs": []
    },
    {
      "cell_type": "markdown",
      "source": [
        "**19.** Raqamli qiymatlardan iborat DataFrame berildi.\n",
        "\n",
        "```python\n",
        "df = pd.DataFrame(np.random.random(size=(5, 3))) # float qiymatlarining 5x3 oʻlchovi\n",
        "```\n",
        "\n",
        "Qatordagi har bir elementdan satrning oʻrtacha qiymatini qanday ayirish mumkin?"
      ],
      "metadata": {
        "id": "5PCk01pjj3Qr"
      }
    },
    {
      "cell_type": "code",
      "source": [],
      "metadata": {
        "id": "s_H3HZe00BxH"
      },
      "execution_count": null,
      "outputs": []
    },
    {
      "cell_type": "markdown",
      "source": [
        "**20.** Sizda 10 ta haqiqiy raqamlar ustunidan iborat DataFrame mavjud:\n",
        "\n",
        "``` python\n",
        "df = pd.DataFrame(np.random.random(size=(5, 10)), columns=list('abcdefghij'))\n",
        "```\n",
        "Qaysi sonlar ustunining yigʻindisi eng kichik ekanini hisoblang. U ustunning yorligʻini qaytaring."
      ],
      "metadata": {
        "id": "aH5N75d2kaIS"
      }
    },
    {
      "cell_type": "code",
      "source": [],
      "metadata": {
        "id": "UBom6RArkwsc"
      },
      "execution_count": null,
      "outputs": []
    },
    {
      "cell_type": "markdown",
      "source": [
        "**21.** Quyida butun sonlardan iborat DataFrame `df` mavjud. Har bir satrga  5 ta yozuv `NaN` qiymatlari kiritilgan.\n",
        "\n",
        "DataFrameʼning har bir qatori uchun uchinchi `NaN` qiymatini oʻz ichiga olgan ustunni toping.\n",
        "\n",
        "Ustun yorliqlarini qaytarishingiz kerak: `e, c, d, h, d`"
      ],
      "metadata": {
        "id": "cFy6Z7UPkyYz"
      }
    },
    {
      "cell_type": "code",
      "source": [
        "nan = np.nan\n",
        "data = [[0.04,  nan,  nan, 0.25,  nan, 0.43, 0.71, 0.51,  nan,  nan],\n",
        "        [ nan,  nan,  nan, 0.04, 0.76,  nan,  nan, 0.67, 0.76, 0.16],\n",
        "        [ nan,  nan, 0.5 ,  nan, 0.31, 0.4 ,  nan,  nan, 0.24, 0.01],\n",
        "        [0.49,  nan,  nan, 0.62, 0.73, 0.26, 0.85,  nan,  nan,  nan],\n",
        "        [ nan,  nan, 0.41,  nan, 0.05,  nan, 0.61,  nan, 0.48, 0.68]]\n",
        "\n",
        "columns = list('abcdefghij')\n",
        "\n",
        "df = pd.DataFrame(data, columns=columns)\n",
        "\n",
        "# Javobni bu yerga yozing.\n",
        "\n"
      ],
      "metadata": {
        "id": "cIjzxMY0nmZX"
      },
      "execution_count": null,
      "outputs": []
    },
    {
      "cell_type": "markdown",
      "source": [
        "**22.** DataFrame `grps` guruhlari ustuniga va `vals` butun qiymatlari ustuniga ega:\n",
        "\n",
        "```python\n",
        "df = pd.DataFrame({'grps': list('aaabbcaabcccbbc'),\n",
        "                   'vals': [12,345,3,1,45,14,4,52,54,23,235,21,57,3,87]})\n",
        "```\n",
        "Har bir `grps` uchun uchta eng katta qiymatning yig‘indisini toping.\n",
        "\n",
        "💡Javobni quyidagicha yakunlashingiz kerak:\n",
        "```\n",
        "grps\n",
        "a    409\n",
        "b    156\n",
        "c    345\n",
        "```"
      ],
      "metadata": {
        "id": "MNtSYovBn6j9"
      }
    },
    {
      "cell_type": "markdown",
      "source": [
        "     'a   a  a b  b  c a a  b  c  c   c  b  b  c'\n",
        "      12,345,3,1,45,14,4,52,54,23,235,21,57,3,87"
      ],
      "metadata": {
        "id": "T84zR5er3MNq"
      }
    },
    {
      "cell_type": "code",
      "source": [
        "# Javobni bu yerga yozing."
      ],
      "metadata": {
        "id": "qUQxxMOLoUSj"
      },
      "execution_count": null,
      "outputs": []
    },
    {
      "cell_type": "markdown",
      "source": [
        "**23.** Quyida tuzilgan DataFrame `df` ikkita butun son ustuniga ega `A` va `B`. `A` dagi qiymatlar 1 dan 100 gacha (shu jumladan).\n",
        "\n",
        "`A` dagi har bir 10 ta ketma-ket butun sonlar guruhi uchun (ya’ni `(0, 10]`, `(10, 20]`, ...) 'B' ustunidagi mos qiymatlar yigʻindisini hisoblang.\n",
        "\n",
        "Javob quyidagicha boʻlishi kerak:\n",
        "\n",
        "```\n",
        "A\n",
        "(0, 10]      635\n",
        "(10, 20]     360\n",
        "(20, 30]     315\n",
        "(30, 40]     306\n",
        "(40, 50]     750\n",
        "(50, 60]     284\n",
        "(60, 70]     424\n",
        "(70, 80]     526\n",
        "(80, 90]     835\n",
        "(90, 100]    852\n",
        "```"
      ],
      "metadata": {
        "id": "nkgP1SXKpGjU"
      }
    },
    {
      "cell_type": "code",
      "source": [
        "df = pd.DataFrame(np.random.RandomState(8765).randint(1, 101, size=(100, 2)), columns = [\"A\", \"B\"])\n",
        "\n",
        "# Javobni bu yerga yozing!"
      ],
      "metadata": {
        "id": "tHxtASQ4pR81"
      },
      "execution_count": null,
      "outputs": []
    },
    {
      "cell_type": "markdown",
      "source": [
        "**24.** 'X' butun son ustuni boʻlgan DataFrame:\n",
        "```python\n",
        "df = pd.DataFrame({'X': [7, 2, 0, 3, 4, 2, 5, 0, 3, 4]})\n",
        "```\n",
        "\n",
        "Har bir qiymat uchun farqni oldingi nolga qaytaring.\n",
        "\n",
        "Sizda natija quyidagicha boʻlishi kerak:\n",
        "\n",
        "```\n",
        "[1, 2, 0, 1, 2, 3, 4, 0, 1, 2]\n",
        "```\n",
        "\n",
        "Buni yangi `Y` ustuni deb nomlang."
      ],
      "metadata": {
        "id": "MtP9tml0pnS0"
      }
    },
    {
      "cell_type": "code",
      "source": [
        "#javobni bu yerga yozing!"
      ],
      "metadata": {
        "id": "otnbU5Gcd8aI"
      },
      "execution_count": null,
      "outputs": []
    },
    {
      "cell_type": "markdown",
      "source": [
        "##`📌Maʼlumotlarni tozalash`\n",
        "\n",
        "Bu har doim sodir boʻladi: kimdir sizga notoʻgʻri tuzilgan satrlar, roʻyxatlar va yetishmayotgan maʼlumotlarni oʻz ichiga olgan maʼlumotlarni beradi. Tahlilni davom ettirish uchun uni qanday tartibga keltirasiz?\n",
        "\n",
        "**25.** Quyidagi jumboqni tasavvur qilishi uchun ushbu misolni DataFrame sifatida oling:\n",
        "\n",
        "```python\n",
        "df = pd.DataFrame({'From_To': ['LoNDon_paris', 'MAdrid_miLAN', 'londON_StockhOlm',\n",
        "                               'Budapest_PaRis', 'Brussels_londOn'],\n",
        "              'FlightNumber': [10045, np.nan, 10065, np.nan, 10085],\n",
        "              'RecentDelays': [[23, 47], [], [24, 43, 87], [13], [67, 32]],\n",
        "                   'Airline': ['KLM(!)', '<Air France> (12)', '(British Airways. )',\n",
        "                               '12. Air France', '\"Swiss Air\"']})\n",
        "```\n",
        "Tartiblaganingizdan soʻng u quyidagi koʻrinishga ega boʻlishi kerak:\n",
        "\n",
        "```\n",
        "            From_To  FlightNumber  RecentDelays              Airline\n",
        "0      LoNDon_paris       10045.0      [23, 47]               KLM(!)\n",
        "1      MAdrid_miLAN           NaN            []    <Air France> (12)\n",
        "2  londON_StockhOlm       10065.0  [24, 43, 87]  (British Airways. )\n",
        "3    Budapest_PaRis           NaN          [13]       12. Air France\n",
        "4   Brussels_londOn       10085.0      [67, 32]          \"Swiss Air\"\n",
        "```\n"
      ],
      "metadata": {
        "id": "OUGK14zuquvK"
      }
    },
    {
      "cell_type": "code",
      "source": [],
      "metadata": {
        "id": "_4tV79cjpEzP"
      },
      "execution_count": null,
      "outputs": []
    },
    {
      "cell_type": "markdown",
      "source": [
        "**26.** **FlightNumber** ustunidagi baʼzi qiymatlar yoʻq. Ular `NaN` koʻrinishida yozilgan. Bu raqamlar har bir qatorda 10 ga koʻpayishi kerak, shuning uchun 10055 va 10075 ni qoʻyish kerak. Ushbu yetishmayotgan raqamlarni toʻldirish uchun `df` ni oʻzgartiring va ustunni butun son ustuniga aylantiring."
      ],
      "metadata": {
        "id": "76jDh3Ggty8y"
      }
    },
    {
      "cell_type": "code",
      "source": [],
      "metadata": {
        "id": "jmKDfj71ut9W"
      },
      "execution_count": null,
      "outputs": []
    },
    {
      "cell_type": "markdown",
      "source": [
        "**27.** **From\\_To** ustunini ikkita alohida ustun koʻrinishida yozing.                                          \n",
        "\n",
        "Toʻgʻri qiymatlarga ega `temp` deb nomlangan yangi Temporary DataFrame berish uchun har bir satrni pastki chiziq chegarasiga ajrating.                                                                     Ushbu Temporary DataFrame ustunlarini `From` va `To` deb nomlang."
      ],
      "metadata": {
        "id": "1mJR50jltkDw"
      }
    },
    {
      "cell_type": "code",
      "source": [],
      "metadata": {
        "id": "ho-RISv_u5v4"
      },
      "execution_count": null,
      "outputs": []
    },
    {
      "cell_type": "markdown",
      "source": [
        "**28.** Temporary DataFrame `temp` da shahar nomlari betartib yozilgan.\n",
        "Satrlarning faqat birinchi harfi katta yozilishi kerak.\n",
        "                                                                         (Masalan, \"londON\" \"London\" boʻlishi kerak.)"
      ],
      "metadata": {
        "id": "unOVLLaV0ZKi"
      }
    },
    {
      "cell_type": "code",
      "source": [],
      "metadata": {
        "id": "x8NnJTBl0jSG"
      },
      "execution_count": null,
      "outputs": []
    },
    {
      "cell_type": "markdown",
      "source": [
        "**29**. `Airline` ustunida aviakompaniya nomlari atrofida qoʻshimcha tinish belgilari va boshqa belgilar paydo boʻlganini koʻrishingiz mumkin. Faqat aviakompaniya nomini qoldiring. Masalan, ''(British Airways. )'' `British Airways` koʻrinishida yozilishi kerak."
      ],
      "metadata": {
        "id": "W1Aqi9MAycD2"
      }
    },
    {
      "cell_type": "code",
      "source": [],
      "metadata": {
        "id": "jPq5G_w0yb0A"
      },
      "execution_count": null,
      "outputs": []
    },
    {
      "cell_type": "markdown",
      "source": [
        "**30.** `df` dan **From_To** ustunini oʻchiring va Temporary DataFrame `temp` ustunini qoʻshing."
      ],
      "metadata": {
        "id": "h6Rg_axE1duO"
      }
    },
    {
      "cell_type": "code",
      "source": [],
      "metadata": {
        "id": "4RfmBvN11ZRc"
      },
      "execution_count": null,
      "outputs": []
    },
    {
      "cell_type": "markdown",
      "source": [
        "**31**. `RecentDelays` ustunida qiymatlar DataFrameʼga roʻyxat sifatida kiritilgan. Vazifangiz birinchi, har bir ikkinchi qiymatni oʻz ustunida va qolgan qiymatlar ham ustunga mos holda chop etish. Agar N-chi qiymat boʻlmasa, qiymat `NaN` deb nomlanishi kerak.\n",
        "\n",
        "Roʻyxatlar qatorini `delays` nomli DataFrame ichiga kengaytiring, `delay_1`, `delay_2` va qolgan ustunlarni ham nomlarini oʻzgartiring va `df` dagi keraksiz `RecentDelays` ustunini `delays` bilan almashtiring."
      ],
      "metadata": {
        "id": "bib5zzhTy6dQ"
      }
    },
    {
      "cell_type": "markdown",
      "source": [
        "Natija quyidagi koʻrinishda boʻlishi kerak:\n",
        "```\n",
        "   FlightNumber          Airline      From         To  delay_1  delay_2  delay_3\n",
        "0         10045              KLM    London      Paris     23.0     47.0      NaN\n",
        "1         10055       Air France    Madrid      Milan      NaN      NaN      NaN\n",
        "2         10065  British Airways    London  Stockholm     24.0     43.0     87.0\n",
        "3         10075       Air France  Budapest      Paris     13.0      NaN      NaN\n",
        "4         10085        Swiss Air  Brussels     London     67.0     32.0      NaN\n",
        "```"
      ],
      "metadata": {
        "id": "zerG3ZoL2KFV"
      }
    },
    {
      "cell_type": "code",
      "source": [],
      "metadata": {
        "id": "W5dp_3rz2KlZ"
      },
      "execution_count": null,
      "outputs": []
    },
    {
      "cell_type": "markdown",
      "source": [
        "##`📌Minesweeper`\n",
        "\n",
        "\n",
        "### Minesweeper tarmogʻida xavfsiz kvadratlar uchun raqamlar yaratamiz.\n",
        "\n",
        "💡 Agar siz Windowsʼning avvalgi versiyalaridan foydalangan boʻlsangiz, Minesweeper bilan tanishsiz:\n",
        "- https://en.wikipedia.org/wiki/Minesweeper_(video_game)"
      ],
      "metadata": {
        "id": "9ttYwM1C2oJ-"
      }
    },
    {
      "cell_type": "markdown",
      "source": [
        "Agar siz oʻyin bilan tanish boʻlmasangiz, kvadratchalar toʻplamini tasavvur qiling: bu kvadratlarning baʼzilari mineʼni yashiradi. Agar siz mineʼni bossangiz, darhol yoʻqotasiz. Agar siz xavfsiz kvadratni bossangiz, darhol qoʻshni boʻlgan kvadratchalarda qancha mine borligini koʻrsatadigan raqamni koʻrasiz. Oʻyinning maqsadi toʻrdagi mine boʻlmagan barcha kvadratlarni ochishdir.\n",
        "\n",
        "Ushbu boʻlimda Minesweeper oʻyini uchun kerakli maʼlumotlarni oʻz ichiga olgan DataFrame yaratamiz: kvadratlarning koordinatalari, kvadratda mine bormi va qoʻshni kvadratlarda topilgan mineʼlar sonini aniqlaymiz."
      ],
      "metadata": {
        "id": "Z89Uhm534sVG"
      }
    },
    {
      "cell_type": "markdown",
      "source": [
        "**32**. Tasavvur qiling, biz Minesweeper oʻyinini 5 dan 4 gacha boʻlgan panjarada oʻynayapmiz, yaʼni.\n",
        "```\n",
        "X = 5\n",
        "Y = 4\n",
        "```\n",
        "Boshlash uchun ikkita ustunli DataFrame `df` yarating, bu tarmoq uchun har bir koordinatani oʻz ichiga olgan `'x'` va `'y'`. Yaʼni DataFrame ishga tushishi kerak:\n",
        "```\n",
        "    x y\n",
        "0 0 0\n",
        "1 0 1\n",
        "2 0 2\n",
        "```"
      ],
      "metadata": {
        "id": "JpyOTDSD5AtG"
      }
    },
    {
      "cell_type": "code",
      "source": [],
      "metadata": {
        "id": "bhQRTflC2t4t"
      },
      "execution_count": null,
      "outputs": []
    },
    {
      "cell_type": "markdown",
      "source": [
        "**33**. Ushbu DataFrame `df` uchun yangi nol (safe) va birliklar (mine) ustunini yarating. Har bir joyda mine sodir boʻlish ehtimoli 0,4 boʻlishi kerak."
      ],
      "metadata": {
        "id": "D1-3t7ue5b-2"
      }
    },
    {
      "cell_type": "code",
      "source": [],
      "metadata": {
        "id": "TJeonP5E5n2u"
      },
      "execution_count": null,
      "outputs": []
    },
    {
      "cell_type": "markdown",
      "source": [
        " **34**. Endi ushbu DataFrame uchun `adjacent` nomli yangi ustun yarating. Ushbu ustunda tarmoqdagi qoʻshni kvadratlarda topilgan mineʼlar soni boʻlishi kerak.\n",
        "\n",
        "(Masalan, `(0, 0)` koordinatasi uchun yozuv boʻlgan birinchi qator uchun `(0, 1)`, `(1, 0)` va `(1) koordinatalarida qancha mine borligini hisoblang. , 1)`.)"
      ],
      "metadata": {
        "id": "XId_lWGn5vaI"
      }
    },
    {
      "cell_type": "code",
      "source": [],
      "metadata": {
        "id": "N5ANTKJ95vAO"
      },
      "execution_count": null,
      "outputs": []
    },
    {
      "cell_type": "markdown",
      "source": [
        "**35**. Mineʼni oʻz ichiga olgan DataFrame qatorlari uchun `adjacent` ustunidagi qiymatni `NaN` ga oʻzgartiring."
      ],
      "metadata": {
        "id": "t0c0y_aE6NZ5"
      }
    },
    {
      "cell_type": "code",
      "source": [],
      "metadata": {
        "id": "fW_V4Ff76aMK"
      },
      "execution_count": null,
      "outputs": []
    },
    {
      "cell_type": "markdown",
      "source": [
        "**36**. DataFrame-ni `adjacent` mineʼlar sonining panjarasiga aylantiring: ustunlar `x` koordinatasi, qatorlar `y` koordinatasi."
      ],
      "metadata": {
        "id": "biBYkX_36edb"
      }
    },
    {
      "cell_type": "code",
      "source": [],
      "metadata": {
        "id": "vmfn_Tra6x24"
      },
      "execution_count": null,
      "outputs": []
    },
    {
      "cell_type": "markdown",
      "source": [
        "##📌BONUS vazifa\n",
        "\n",
        "Oʻzingiz javob berishni istagan savolni kiriting va unga javob bering."
      ],
      "metadata": {
        "id": "kc7t7KCw6061"
      }
    },
    {
      "cell_type": "code",
      "source": [],
      "metadata": {
        "id": "LICHEONU60hs"
      },
      "execution_count": null,
      "outputs": []
    }
  ]
}