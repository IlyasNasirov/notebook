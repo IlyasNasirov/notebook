{
  "nbformat": 4,
  "nbformat_minor": 0,
  "metadata": {
    "colab": {
      "provenance": [],
      "include_colab_link": true
    },
    "kernelspec": {
      "name": "python3",
      "display_name": "Python 3"
    },
    "language_info": {
      "name": "python"
    }
  },
  "cells": [
    {
      "cell_type": "markdown",
      "metadata": {
        "id": "view-in-github",
        "colab_type": "text"
      },
      "source": [
        "<a href=\"https://colab.research.google.com/github/IlyasNasirov/notebook/blob/main/10_MA%CA%BCLUMOTLARGA_ISHLOV_BERISH_10_11_HTML_JSON_API_o%CA%BBqish.ipynb\" target=\"_parent\"><img src=\"https://colab.research.google.com/assets/colab-badge.svg\" alt=\"Open In Colab\"/></a>"
      ]
    },
    {
      "cell_type": "markdown",
      "source": [
        "![Imgur](https://i.imgur.com/h4PPC71.png)\n",
        "#**10-modul. Maʼlumotlarga ishlov berish. Fayllar va maʼlumotlar ombori**\n",
        "#10.11. Veb sahifalardan oʻqish. JSON va API\n",
        "**Bu vazifalarni bajargach, veb sahifalardan maʼlumot olish, JSON bilan ishlash va API soʻrovlarini yuborish koʻnikmalarini egallaysiz.**"
      ],
      "metadata": {
        "id": "EM2GVgOYQoEY"
      }
    },
    {
      "cell_type": "markdown",
      "source": [
        "#1-topshiriq\n",
        "1. Pandas kutubxonasidan foydalanib, quyida berilgan link ichidan barcha jadvallarni o‘qing va roʻyxat shaklida saqlang.\n",
        " * https://en.wikipedia.org/wiki/Fossil_fuel_exporters\n",
        "2. Har bir jadvalning birinchi 1 qatorini ekranga chiqaring.\n",
        "\n",
        "\n",
        "    "
      ],
      "metadata": {
        "id": "_0tS60y7Q2qR"
      }
    },
    {
      "cell_type": "code",
      "execution_count": 1,
      "metadata": {
        "id": "X_zQXS8pQQM9"
      },
      "outputs": [],
      "source": [
        "import pandas as pd\n",
        "data = pd.read_html('https://en.wikipedia.org/wiki/Fossil_fuel_exporters')"
      ]
    },
    {
      "cell_type": "code",
      "source": [
        "for d in data:\n",
        "  print(d.head(1))\n",
        "  print('---------------------')"
      ],
      "metadata": {
        "colab": {
          "base_uri": "https://localhost:8080/"
        },
        "id": "7Oz0-u-R77Wu",
        "outputId": "2599305f-5260-4aa9-a1ef-a367f75d9d51"
      },
      "execution_count": 23,
      "outputs": [
        {
          "output_type": "stream",
          "name": "stdout",
          "text": [
            "    0                                                  1\n",
            "0 NaN  This article needs to be updated. Please help ...\n",
            "---------------------\n",
            "   Rank Country/region                       Oil - exports Date of information\n",
            "0     1   Saudi Arabia  6,658,642 bbl/d (1,058,639.5 m3/d)           2020 est.\n",
            "---------------------\n",
            "   Rank Country/region  Natural gas - exports (cu m) Date of information\n",
            "0     1         Russia                  199928345000           2020 est.\n",
            "---------------------\n",
            "   Rank    Country  Coal - exports (thousand short tons)  Date of information\n",
            "0     1  Indonesia                                451520                 2020\n",
            "---------------------\n",
            "  vteLists of countries by energy rankings  \\\n",
            "0                              Fossil Fuel   \n",
            "\n",
            "          vteLists of countries by energy rankings.1  \n",
            "0  Petroleum All Production Consumption Exports I...  \n",
            "---------------------\n",
            "           0                                                  1\n",
            "0  Petroleum  All Production Consumption Exports Imports Res...\n",
            "---------------------\n",
            "         0                                   1\n",
            "0  Uranium  All Production Generation Reserves\n",
            "---------------------\n"
          ]
        }
      ]
    },
    {
      "cell_type": "markdown",
      "source": [
        "#2-topshiriq\n",
        "Yuqorida yaratilgan jadvallar roʻyxatidan eng uzunini `largest_data.csv` fayliga saqlang."
      ],
      "metadata": {
        "id": "yHO8vEOAdIok"
      }
    },
    {
      "cell_type": "code",
      "source": [
        "longest_df = max(data, key=len)\n",
        "print(longest_df.shape)\n",
        "longest_df.to_csv('largest_data.csv', index=False)"
      ],
      "metadata": {
        "id": "grUro0-AeGz4",
        "colab": {
          "base_uri": "https://localhost:8080/"
        },
        "outputId": "7bbea70d-d3d4-443d-ec7c-b93476369fa6"
      },
      "execution_count": 44,
      "outputs": [
        {
          "output_type": "stream",
          "name": "stdout",
          "text": [
            "(11, 2)\n"
          ]
        }
      ]
    },
    {
      "cell_type": "markdown",
      "source": [
        "#3-topshiriq\n",
        "1. Quyidagi link orqali json maʼlumotni yuklab oling va uni climate_change_co2.json nomi bilan saqlang.\n",
        " * https://raw.githubusercontent.com/alishermutalov/praktikum-datasets/refs/heads/praktikum/json_data.json\n",
        "2. Maʼlumotlar boshidan 5 ta qatorni ekranga chiqaring!\n"
      ],
      "metadata": {
        "id": "Cf5ZgJAce_QS"
      }
    },
    {
      "cell_type": "code",
      "source": [
        "url = \"https://raw.githubusercontent.com/alishermutalov/praktikum-datasets/refs/heads/praktikum/json_data.json\"\n",
        "resourse = pd.read_json(url)\n",
        "resourse.head()"
      ],
      "metadata": {
        "id": "J30yFArNu6UN",
        "colab": {
          "base_uri": "https://localhost:8080/",
          "height": 206
        },
        "outputId": "0fcf6e02-e1fe-4da2-aa2a-c4ab7dd950d6"
      },
      "execution_count": 55,
      "outputs": [
        {
          "output_type": "execute_result",
          "data": {
            "text/plain": [
              "   Year  Total  Gas Fuel  Liquid Fuel  Solid Fuel  Cement  Gas Flaring  \\\n",
              "0  2010   9167      1702         3114        3842     450           59   \n",
              "1  2009   8740      1585         3056        3620     413           66   \n",
              "2  2008   8783      1631         3122        3571     388           71   \n",
              "3  2007   8566      1572         3081        3464     382           68   \n",
              "4  2006   8370      1525         3089        3339     356           61   \n",
              "\n",
              "   Per Capita  \n",
              "0        1.33  \n",
              "1        1.28  \n",
              "2        1.30  \n",
              "3        1.28  \n",
              "4        1.27  "
            ],
            "text/html": [
              "\n",
              "  <div id=\"df-46036955-37ff-44aa-b82c-0a43a8e08240\" class=\"colab-df-container\">\n",
              "    <div>\n",
              "<style scoped>\n",
              "    .dataframe tbody tr th:only-of-type {\n",
              "        vertical-align: middle;\n",
              "    }\n",
              "\n",
              "    .dataframe tbody tr th {\n",
              "        vertical-align: top;\n",
              "    }\n",
              "\n",
              "    .dataframe thead th {\n",
              "        text-align: right;\n",
              "    }\n",
              "</style>\n",
              "<table border=\"1\" class=\"dataframe\">\n",
              "  <thead>\n",
              "    <tr style=\"text-align: right;\">\n",
              "      <th></th>\n",
              "      <th>Year</th>\n",
              "      <th>Total</th>\n",
              "      <th>Gas Fuel</th>\n",
              "      <th>Liquid Fuel</th>\n",
              "      <th>Solid Fuel</th>\n",
              "      <th>Cement</th>\n",
              "      <th>Gas Flaring</th>\n",
              "      <th>Per Capita</th>\n",
              "    </tr>\n",
              "  </thead>\n",
              "  <tbody>\n",
              "    <tr>\n",
              "      <th>0</th>\n",
              "      <td>2010</td>\n",
              "      <td>9167</td>\n",
              "      <td>1702</td>\n",
              "      <td>3114</td>\n",
              "      <td>3842</td>\n",
              "      <td>450</td>\n",
              "      <td>59</td>\n",
              "      <td>1.33</td>\n",
              "    </tr>\n",
              "    <tr>\n",
              "      <th>1</th>\n",
              "      <td>2009</td>\n",
              "      <td>8740</td>\n",
              "      <td>1585</td>\n",
              "      <td>3056</td>\n",
              "      <td>3620</td>\n",
              "      <td>413</td>\n",
              "      <td>66</td>\n",
              "      <td>1.28</td>\n",
              "    </tr>\n",
              "    <tr>\n",
              "      <th>2</th>\n",
              "      <td>2008</td>\n",
              "      <td>8783</td>\n",
              "      <td>1631</td>\n",
              "      <td>3122</td>\n",
              "      <td>3571</td>\n",
              "      <td>388</td>\n",
              "      <td>71</td>\n",
              "      <td>1.30</td>\n",
              "    </tr>\n",
              "    <tr>\n",
              "      <th>3</th>\n",
              "      <td>2007</td>\n",
              "      <td>8566</td>\n",
              "      <td>1572</td>\n",
              "      <td>3081</td>\n",
              "      <td>3464</td>\n",
              "      <td>382</td>\n",
              "      <td>68</td>\n",
              "      <td>1.28</td>\n",
              "    </tr>\n",
              "    <tr>\n",
              "      <th>4</th>\n",
              "      <td>2006</td>\n",
              "      <td>8370</td>\n",
              "      <td>1525</td>\n",
              "      <td>3089</td>\n",
              "      <td>3339</td>\n",
              "      <td>356</td>\n",
              "      <td>61</td>\n",
              "      <td>1.27</td>\n",
              "    </tr>\n",
              "  </tbody>\n",
              "</table>\n",
              "</div>\n",
              "    <div class=\"colab-df-buttons\">\n",
              "\n",
              "  <div class=\"colab-df-container\">\n",
              "    <button class=\"colab-df-convert\" onclick=\"convertToInteractive('df-46036955-37ff-44aa-b82c-0a43a8e08240')\"\n",
              "            title=\"Convert this dataframe to an interactive table.\"\n",
              "            style=\"display:none;\">\n",
              "\n",
              "  <svg xmlns=\"http://www.w3.org/2000/svg\" height=\"24px\" viewBox=\"0 -960 960 960\">\n",
              "    <path d=\"M120-120v-720h720v720H120Zm60-500h600v-160H180v160Zm220 220h160v-160H400v160Zm0 220h160v-160H400v160ZM180-400h160v-160H180v160Zm440 0h160v-160H620v160ZM180-180h160v-160H180v160Zm440 0h160v-160H620v160Z\"/>\n",
              "  </svg>\n",
              "    </button>\n",
              "\n",
              "  <style>\n",
              "    .colab-df-container {\n",
              "      display:flex;\n",
              "      gap: 12px;\n",
              "    }\n",
              "\n",
              "    .colab-df-convert {\n",
              "      background-color: #E8F0FE;\n",
              "      border: none;\n",
              "      border-radius: 50%;\n",
              "      cursor: pointer;\n",
              "      display: none;\n",
              "      fill: #1967D2;\n",
              "      height: 32px;\n",
              "      padding: 0 0 0 0;\n",
              "      width: 32px;\n",
              "    }\n",
              "\n",
              "    .colab-df-convert:hover {\n",
              "      background-color: #E2EBFA;\n",
              "      box-shadow: 0px 1px 2px rgba(60, 64, 67, 0.3), 0px 1px 3px 1px rgba(60, 64, 67, 0.15);\n",
              "      fill: #174EA6;\n",
              "    }\n",
              "\n",
              "    .colab-df-buttons div {\n",
              "      margin-bottom: 4px;\n",
              "    }\n",
              "\n",
              "    [theme=dark] .colab-df-convert {\n",
              "      background-color: #3B4455;\n",
              "      fill: #D2E3FC;\n",
              "    }\n",
              "\n",
              "    [theme=dark] .colab-df-convert:hover {\n",
              "      background-color: #434B5C;\n",
              "      box-shadow: 0px 1px 3px 1px rgba(0, 0, 0, 0.15);\n",
              "      filter: drop-shadow(0px 1px 2px rgba(0, 0, 0, 0.3));\n",
              "      fill: #FFFFFF;\n",
              "    }\n",
              "  </style>\n",
              "\n",
              "    <script>\n",
              "      const buttonEl =\n",
              "        document.querySelector('#df-46036955-37ff-44aa-b82c-0a43a8e08240 button.colab-df-convert');\n",
              "      buttonEl.style.display =\n",
              "        google.colab.kernel.accessAllowed ? 'block' : 'none';\n",
              "\n",
              "      async function convertToInteractive(key) {\n",
              "        const element = document.querySelector('#df-46036955-37ff-44aa-b82c-0a43a8e08240');\n",
              "        const dataTable =\n",
              "          await google.colab.kernel.invokeFunction('convertToInteractive',\n",
              "                                                    [key], {});\n",
              "        if (!dataTable) return;\n",
              "\n",
              "        const docLinkHtml = 'Like what you see? Visit the ' +\n",
              "          '<a target=\"_blank\" href=https://colab.research.google.com/notebooks/data_table.ipynb>data table notebook</a>'\n",
              "          + ' to learn more about interactive tables.';\n",
              "        element.innerHTML = '';\n",
              "        dataTable['output_type'] = 'display_data';\n",
              "        await google.colab.output.renderOutput(dataTable, element);\n",
              "        const docLink = document.createElement('div');\n",
              "        docLink.innerHTML = docLinkHtml;\n",
              "        element.appendChild(docLink);\n",
              "      }\n",
              "    </script>\n",
              "  </div>\n",
              "\n",
              "\n",
              "    <div id=\"df-8339447b-9240-4bbb-9408-84ef0164926d\">\n",
              "      <button class=\"colab-df-quickchart\" onclick=\"quickchart('df-8339447b-9240-4bbb-9408-84ef0164926d')\"\n",
              "                title=\"Suggest charts\"\n",
              "                style=\"display:none;\">\n",
              "\n",
              "<svg xmlns=\"http://www.w3.org/2000/svg\" height=\"24px\"viewBox=\"0 0 24 24\"\n",
              "     width=\"24px\">\n",
              "    <g>\n",
              "        <path d=\"M19 3H5c-1.1 0-2 .9-2 2v14c0 1.1.9 2 2 2h14c1.1 0 2-.9 2-2V5c0-1.1-.9-2-2-2zM9 17H7v-7h2v7zm4 0h-2V7h2v10zm4 0h-2v-4h2v4z\"/>\n",
              "    </g>\n",
              "</svg>\n",
              "      </button>\n",
              "\n",
              "<style>\n",
              "  .colab-df-quickchart {\n",
              "      --bg-color: #E8F0FE;\n",
              "      --fill-color: #1967D2;\n",
              "      --hover-bg-color: #E2EBFA;\n",
              "      --hover-fill-color: #174EA6;\n",
              "      --disabled-fill-color: #AAA;\n",
              "      --disabled-bg-color: #DDD;\n",
              "  }\n",
              "\n",
              "  [theme=dark] .colab-df-quickchart {\n",
              "      --bg-color: #3B4455;\n",
              "      --fill-color: #D2E3FC;\n",
              "      --hover-bg-color: #434B5C;\n",
              "      --hover-fill-color: #FFFFFF;\n",
              "      --disabled-bg-color: #3B4455;\n",
              "      --disabled-fill-color: #666;\n",
              "  }\n",
              "\n",
              "  .colab-df-quickchart {\n",
              "    background-color: var(--bg-color);\n",
              "    border: none;\n",
              "    border-radius: 50%;\n",
              "    cursor: pointer;\n",
              "    display: none;\n",
              "    fill: var(--fill-color);\n",
              "    height: 32px;\n",
              "    padding: 0;\n",
              "    width: 32px;\n",
              "  }\n",
              "\n",
              "  .colab-df-quickchart:hover {\n",
              "    background-color: var(--hover-bg-color);\n",
              "    box-shadow: 0 1px 2px rgba(60, 64, 67, 0.3), 0 1px 3px 1px rgba(60, 64, 67, 0.15);\n",
              "    fill: var(--button-hover-fill-color);\n",
              "  }\n",
              "\n",
              "  .colab-df-quickchart-complete:disabled,\n",
              "  .colab-df-quickchart-complete:disabled:hover {\n",
              "    background-color: var(--disabled-bg-color);\n",
              "    fill: var(--disabled-fill-color);\n",
              "    box-shadow: none;\n",
              "  }\n",
              "\n",
              "  .colab-df-spinner {\n",
              "    border: 2px solid var(--fill-color);\n",
              "    border-color: transparent;\n",
              "    border-bottom-color: var(--fill-color);\n",
              "    animation:\n",
              "      spin 1s steps(1) infinite;\n",
              "  }\n",
              "\n",
              "  @keyframes spin {\n",
              "    0% {\n",
              "      border-color: transparent;\n",
              "      border-bottom-color: var(--fill-color);\n",
              "      border-left-color: var(--fill-color);\n",
              "    }\n",
              "    20% {\n",
              "      border-color: transparent;\n",
              "      border-left-color: var(--fill-color);\n",
              "      border-top-color: var(--fill-color);\n",
              "    }\n",
              "    30% {\n",
              "      border-color: transparent;\n",
              "      border-left-color: var(--fill-color);\n",
              "      border-top-color: var(--fill-color);\n",
              "      border-right-color: var(--fill-color);\n",
              "    }\n",
              "    40% {\n",
              "      border-color: transparent;\n",
              "      border-right-color: var(--fill-color);\n",
              "      border-top-color: var(--fill-color);\n",
              "    }\n",
              "    60% {\n",
              "      border-color: transparent;\n",
              "      border-right-color: var(--fill-color);\n",
              "    }\n",
              "    80% {\n",
              "      border-color: transparent;\n",
              "      border-right-color: var(--fill-color);\n",
              "      border-bottom-color: var(--fill-color);\n",
              "    }\n",
              "    90% {\n",
              "      border-color: transparent;\n",
              "      border-bottom-color: var(--fill-color);\n",
              "    }\n",
              "  }\n",
              "</style>\n",
              "\n",
              "      <script>\n",
              "        async function quickchart(key) {\n",
              "          const quickchartButtonEl =\n",
              "            document.querySelector('#' + key + ' button');\n",
              "          quickchartButtonEl.disabled = true;  // To prevent multiple clicks.\n",
              "          quickchartButtonEl.classList.add('colab-df-spinner');\n",
              "          try {\n",
              "            const charts = await google.colab.kernel.invokeFunction(\n",
              "                'suggestCharts', [key], {});\n",
              "          } catch (error) {\n",
              "            console.error('Error during call to suggestCharts:', error);\n",
              "          }\n",
              "          quickchartButtonEl.classList.remove('colab-df-spinner');\n",
              "          quickchartButtonEl.classList.add('colab-df-quickchart-complete');\n",
              "        }\n",
              "        (() => {\n",
              "          let quickchartButtonEl =\n",
              "            document.querySelector('#df-8339447b-9240-4bbb-9408-84ef0164926d button');\n",
              "          quickchartButtonEl.style.display =\n",
              "            google.colab.kernel.accessAllowed ? 'block' : 'none';\n",
              "        })();\n",
              "      </script>\n",
              "    </div>\n",
              "\n",
              "    </div>\n",
              "  </div>\n"
            ],
            "application/vnd.google.colaboratory.intrinsic+json": {
              "type": "dataframe",
              "variable_name": "resourse",
              "summary": "{\n  \"name\": \"resourse\",\n  \"rows\": 260,\n  \"fields\": [\n    {\n      \"column\": \"Year\",\n      \"properties\": {\n        \"dtype\": \"number\",\n        \"std\": 75,\n        \"min\": 1751,\n        \"max\": 2010,\n        \"num_unique_values\": 260,\n        \"samples\": [\n          1980,\n          1829,\n          1787\n        ],\n        \"semantic_type\": \"\",\n        \"description\": \"\"\n      }\n    },\n    {\n      \"column\": \"Total\",\n      \"properties\": {\n        \"dtype\": \"number\",\n        \"std\": 2253,\n        \"min\": 3,\n        \"max\": 9167,\n        \"num_unique_values\": 190,\n        \"samples\": [\n          17,\n          12,\n          507\n        ],\n        \"semantic_type\": \"\",\n        \"description\": \"\"\n      }\n    },\n    {\n      \"column\": \"Gas Fuel\",\n      \"properties\": {\n        \"dtype\": \"number\",\n        \"std\": 396,\n        \"min\": 0,\n        \"max\": 1702,\n        \"num_unique_values\": 94,\n        \"samples\": [\n          467,\n          937,\n          138\n        ],\n        \"semantic_type\": \"\",\n        \"description\": \"\"\n      }\n    },\n    {\n      \"column\": \"Liquid Fuel\",\n      \"properties\": {\n        \"dtype\": \"number\",\n        \"std\": 934,\n        \"min\": 0,\n        \"max\": 3122,\n        \"num_unique_values\": 121,\n        \"samples\": [\n          1323,\n          1052,\n          3089\n        ],\n        \"semantic_type\": \"\",\n        \"description\": \"\"\n      }\n    },\n    {\n      \"column\": \"Solid Fuel\",\n      \"properties\": {\n        \"dtype\": \"number\",\n        \"std\": 868,\n        \"min\": 3,\n        \"max\": 3842,\n        \"num_unique_values\": 188,\n        \"samples\": [\n          7,\n          37,\n          2357\n        ],\n        \"semantic_type\": \"\",\n        \"description\": \"\"\n      }\n    },\n    {\n      \"column\": \"Cement\",\n      \"properties\": {\n        \"dtype\": \"number\",\n        \"std\": 78,\n        \"min\": 0,\n        \"max\": 450,\n        \"num_unique_values\": 68,\n        \"samples\": [\n          45,\n          176,\n          356\n        ],\n        \"semantic_type\": \"\",\n        \"description\": \"\"\n      }\n    },\n    {\n      \"column\": \"Gas Flaring\",\n      \"properties\": {\n        \"dtype\": \"number\",\n        \"std\": 26,\n        \"min\": 0,\n        \"max\": 110,\n        \"num_unique_values\": 47,\n        \"samples\": [\n          108,\n          39,\n          104\n        ],\n        \"semantic_type\": \"\",\n        \"description\": \"\"\n      }\n    },\n    {\n      \"column\": \"Per Capita\",\n      \"properties\": {\n        \"dtype\": \"number\",\n        \"std\": 0.17863003253817697,\n        \"min\": 0.64,\n        \"max\": 1.33,\n        \"num_unique_values\": 37,\n        \"samples\": [\n          1.19,\n          1.1400000000000001,\n          1.24\n        ],\n        \"semantic_type\": \"\",\n        \"description\": \"\"\n      }\n    }\n  ]\n}"
            }
          },
          "metadata": {},
          "execution_count": 55
        }
      ]
    },
    {
      "cell_type": "markdown",
      "source": [
        "#4-topshiriq\n",
        "1. Quyida berilgan linkga `get` soʻrovini yuborish orqali `json` maʼlumotlarini `posts.json` fayliga saqlang.\n",
        "  * https://jsonplaceholder.typicode.com/posts/\n",
        "2. Ushbu maʼlumotlarni dataframe koʻrinishida saqlang va tasodifiy 5 ta qatorni ekranga chiqaring."
      ],
      "metadata": {
        "id": "Sp027Kpn0cLH"
      }
    },
    {
      "cell_type": "code",
      "source": [
        "url = \"https://jsonplaceholder.typicode.com/posts/\"\n",
        "#javobni shu yerga yozing."
      ],
      "metadata": {
        "id": "q7d__iIX3n61"
      },
      "execution_count": null,
      "outputs": []
    }
  ]
}