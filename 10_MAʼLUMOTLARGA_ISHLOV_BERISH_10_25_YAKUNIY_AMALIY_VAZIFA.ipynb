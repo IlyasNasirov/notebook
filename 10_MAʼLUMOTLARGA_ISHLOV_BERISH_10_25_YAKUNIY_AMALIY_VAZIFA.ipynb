{
  "nbformat": 4,
  "nbformat_minor": 0,
  "metadata": {
    "colab": {
      "provenance": [],
      "include_colab_link": true
    },
    "kernelspec": {
      "name": "python3",
      "display_name": "Python 3"
    },
    "language_info": {
      "name": "python"
    }
  },
  "cells": [
    {
      "cell_type": "markdown",
      "metadata": {
        "id": "view-in-github",
        "colab_type": "text"
      },
      "source": [
        "<a href=\"https://colab.research.google.com/github/IlyasNasirov/notebook/blob/main/10_MA%CA%BCLUMOTLARGA_ISHLOV_BERISH_10_25_YAKUNIY_AMALIY_VAZIFA.ipynb\" target=\"_parent\"><img src=\"https://colab.research.google.com/assets/colab-badge.svg\" alt=\"Open In Colab\"/></a>"
      ]
    },
    {
      "cell_type": "markdown",
      "source": [
        "![Imgur](https://i.imgur.com/h4PPC71.png)\n",
        "#**10-modul. Maʼlumotlarga ishlov berish. Fayllar va maʼlumotlar ombori**\n",
        "\n",
        "#**10.25. Modul boʻyicha yakuniy amaliy vazifa**\n",
        "\n",
        "**Amaliyotni bajargach, fayllar bilan ishlash, API va veb sahifalardan ma’lumot olish, SQL soʻrovlarini yozish va ma’lumotlar omboriga ma’lumot saqlash koʻnikmalariga ega boʻlasiz.**"
      ],
      "metadata": {
        "id": "qTu9BP7OGfBq"
      }
    },
    {
      "cell_type": "markdown",
      "source": [
        "#**Fayldan oʻqish va yozish**"
      ],
      "metadata": {
        "id": "2Znmz4tGY6UX"
      }
    },
    {
      "cell_type": "markdown",
      "source": [
        "#**1) CSV fayldan maʼlumotlarni o‘qish**\n",
        "* https://raw.githubusercontent.com/alishermutalov/praktikum-datasets/refs/heads/praktikum/data_date.csv havolasidagi maʼlumotlarni `df` oʻzgaruvchisiga saqlang!\n",
        "* `df` dan tasodifiy 10 ta qatorni ekranga chiqaring!"
      ],
      "metadata": {
        "id": "8tFQpa2tXFqH"
      }
    },
    {
      "cell_type": "code",
      "source": [
        "import pandas as pd\n",
        "df = pd.read_csv('https://raw.githubusercontent.com/alishermutalov/praktikum-datasets/refs/heads/praktikum/data_date.csv')\n",
        "df.sample(10)"
      ],
      "metadata": {
        "id": "CjbRW5t4GXyX",
        "colab": {
          "base_uri": "https://localhost:8080/",
          "height": 363
        },
        "outputId": "1a8fb633-e741-498a-c200-cfe06507c489"
      },
      "execution_count": 1,
      "outputs": [
        {
          "output_type": "execute_result",
          "data": {
            "text/plain": [
              "             Date                   Country                          Status  \\\n",
              "8558   2022-09-13                San Marino                            Good   \n",
              "14653  2024-08-22                    Russia                            Good   \n",
              "8755   2022-09-15                      Chad                        Moderate   \n",
              "274    2022-07-21                    Uganda                       Unhealthy   \n",
              "16505  2024-12-05                    Serbia  Unhealthy for Sensitive Groups   \n",
              "8810   2022-09-15                Luxembourg                            Good   \n",
              "6702   2022-08-31                      Laos                            Good   \n",
              "6055   2022-08-26                    Uganda  Unhealthy for Sensitive Groups   \n",
              "314    2022-07-22                Costa Rica                        Moderate   \n",
              "701    2022-07-22  United States of America                        Moderate   \n",
              "\n",
              "       AQI Value  \n",
              "8558          40  \n",
              "14653         45  \n",
              "8755          55  \n",
              "274          189  \n",
              "16505        137  \n",
              "8810          32  \n",
              "6702          29  \n",
              "6055         117  \n",
              "314           51  \n",
              "701           91  "
            ],
            "text/html": [
              "\n",
              "  <div id=\"df-6d0fe0b4-8193-466b-a39f-927a138cf3d8\" class=\"colab-df-container\">\n",
              "    <div>\n",
              "<style scoped>\n",
              "    .dataframe tbody tr th:only-of-type {\n",
              "        vertical-align: middle;\n",
              "    }\n",
              "\n",
              "    .dataframe tbody tr th {\n",
              "        vertical-align: top;\n",
              "    }\n",
              "\n",
              "    .dataframe thead th {\n",
              "        text-align: right;\n",
              "    }\n",
              "</style>\n",
              "<table border=\"1\" class=\"dataframe\">\n",
              "  <thead>\n",
              "    <tr style=\"text-align: right;\">\n",
              "      <th></th>\n",
              "      <th>Date</th>\n",
              "      <th>Country</th>\n",
              "      <th>Status</th>\n",
              "      <th>AQI Value</th>\n",
              "    </tr>\n",
              "  </thead>\n",
              "  <tbody>\n",
              "    <tr>\n",
              "      <th>8558</th>\n",
              "      <td>2022-09-13</td>\n",
              "      <td>San Marino</td>\n",
              "      <td>Good</td>\n",
              "      <td>40</td>\n",
              "    </tr>\n",
              "    <tr>\n",
              "      <th>14653</th>\n",
              "      <td>2024-08-22</td>\n",
              "      <td>Russia</td>\n",
              "      <td>Good</td>\n",
              "      <td>45</td>\n",
              "    </tr>\n",
              "    <tr>\n",
              "      <th>8755</th>\n",
              "      <td>2022-09-15</td>\n",
              "      <td>Chad</td>\n",
              "      <td>Moderate</td>\n",
              "      <td>55</td>\n",
              "    </tr>\n",
              "    <tr>\n",
              "      <th>274</th>\n",
              "      <td>2022-07-21</td>\n",
              "      <td>Uganda</td>\n",
              "      <td>Unhealthy</td>\n",
              "      <td>189</td>\n",
              "    </tr>\n",
              "    <tr>\n",
              "      <th>16505</th>\n",
              "      <td>2024-12-05</td>\n",
              "      <td>Serbia</td>\n",
              "      <td>Unhealthy for Sensitive Groups</td>\n",
              "      <td>137</td>\n",
              "    </tr>\n",
              "    <tr>\n",
              "      <th>8810</th>\n",
              "      <td>2022-09-15</td>\n",
              "      <td>Luxembourg</td>\n",
              "      <td>Good</td>\n",
              "      <td>32</td>\n",
              "    </tr>\n",
              "    <tr>\n",
              "      <th>6702</th>\n",
              "      <td>2022-08-31</td>\n",
              "      <td>Laos</td>\n",
              "      <td>Good</td>\n",
              "      <td>29</td>\n",
              "    </tr>\n",
              "    <tr>\n",
              "      <th>6055</th>\n",
              "      <td>2022-08-26</td>\n",
              "      <td>Uganda</td>\n",
              "      <td>Unhealthy for Sensitive Groups</td>\n",
              "      <td>117</td>\n",
              "    </tr>\n",
              "    <tr>\n",
              "      <th>314</th>\n",
              "      <td>2022-07-22</td>\n",
              "      <td>Costa Rica</td>\n",
              "      <td>Moderate</td>\n",
              "      <td>51</td>\n",
              "    </tr>\n",
              "    <tr>\n",
              "      <th>701</th>\n",
              "      <td>2022-07-22</td>\n",
              "      <td>United States of America</td>\n",
              "      <td>Moderate</td>\n",
              "      <td>91</td>\n",
              "    </tr>\n",
              "  </tbody>\n",
              "</table>\n",
              "</div>\n",
              "    <div class=\"colab-df-buttons\">\n",
              "\n",
              "  <div class=\"colab-df-container\">\n",
              "    <button class=\"colab-df-convert\" onclick=\"convertToInteractive('df-6d0fe0b4-8193-466b-a39f-927a138cf3d8')\"\n",
              "            title=\"Convert this dataframe to an interactive table.\"\n",
              "            style=\"display:none;\">\n",
              "\n",
              "  <svg xmlns=\"http://www.w3.org/2000/svg\" height=\"24px\" viewBox=\"0 -960 960 960\">\n",
              "    <path d=\"M120-120v-720h720v720H120Zm60-500h600v-160H180v160Zm220 220h160v-160H400v160Zm0 220h160v-160H400v160ZM180-400h160v-160H180v160Zm440 0h160v-160H620v160ZM180-180h160v-160H180v160Zm440 0h160v-160H620v160Z\"/>\n",
              "  </svg>\n",
              "    </button>\n",
              "\n",
              "  <style>\n",
              "    .colab-df-container {\n",
              "      display:flex;\n",
              "      gap: 12px;\n",
              "    }\n",
              "\n",
              "    .colab-df-convert {\n",
              "      background-color: #E8F0FE;\n",
              "      border: none;\n",
              "      border-radius: 50%;\n",
              "      cursor: pointer;\n",
              "      display: none;\n",
              "      fill: #1967D2;\n",
              "      height: 32px;\n",
              "      padding: 0 0 0 0;\n",
              "      width: 32px;\n",
              "    }\n",
              "\n",
              "    .colab-df-convert:hover {\n",
              "      background-color: #E2EBFA;\n",
              "      box-shadow: 0px 1px 2px rgba(60, 64, 67, 0.3), 0px 1px 3px 1px rgba(60, 64, 67, 0.15);\n",
              "      fill: #174EA6;\n",
              "    }\n",
              "\n",
              "    .colab-df-buttons div {\n",
              "      margin-bottom: 4px;\n",
              "    }\n",
              "\n",
              "    [theme=dark] .colab-df-convert {\n",
              "      background-color: #3B4455;\n",
              "      fill: #D2E3FC;\n",
              "    }\n",
              "\n",
              "    [theme=dark] .colab-df-convert:hover {\n",
              "      background-color: #434B5C;\n",
              "      box-shadow: 0px 1px 3px 1px rgba(0, 0, 0, 0.15);\n",
              "      filter: drop-shadow(0px 1px 2px rgba(0, 0, 0, 0.3));\n",
              "      fill: #FFFFFF;\n",
              "    }\n",
              "  </style>\n",
              "\n",
              "    <script>\n",
              "      const buttonEl =\n",
              "        document.querySelector('#df-6d0fe0b4-8193-466b-a39f-927a138cf3d8 button.colab-df-convert');\n",
              "      buttonEl.style.display =\n",
              "        google.colab.kernel.accessAllowed ? 'block' : 'none';\n",
              "\n",
              "      async function convertToInteractive(key) {\n",
              "        const element = document.querySelector('#df-6d0fe0b4-8193-466b-a39f-927a138cf3d8');\n",
              "        const dataTable =\n",
              "          await google.colab.kernel.invokeFunction('convertToInteractive',\n",
              "                                                    [key], {});\n",
              "        if (!dataTable) return;\n",
              "\n",
              "        const docLinkHtml = 'Like what you see? Visit the ' +\n",
              "          '<a target=\"_blank\" href=https://colab.research.google.com/notebooks/data_table.ipynb>data table notebook</a>'\n",
              "          + ' to learn more about interactive tables.';\n",
              "        element.innerHTML = '';\n",
              "        dataTable['output_type'] = 'display_data';\n",
              "        await google.colab.output.renderOutput(dataTable, element);\n",
              "        const docLink = document.createElement('div');\n",
              "        docLink.innerHTML = docLinkHtml;\n",
              "        element.appendChild(docLink);\n",
              "      }\n",
              "    </script>\n",
              "  </div>\n",
              "\n",
              "\n",
              "    <div id=\"df-e582d50b-4d5e-4729-bbb3-2dbd819a320d\">\n",
              "      <button class=\"colab-df-quickchart\" onclick=\"quickchart('df-e582d50b-4d5e-4729-bbb3-2dbd819a320d')\"\n",
              "                title=\"Suggest charts\"\n",
              "                style=\"display:none;\">\n",
              "\n",
              "<svg xmlns=\"http://www.w3.org/2000/svg\" height=\"24px\"viewBox=\"0 0 24 24\"\n",
              "     width=\"24px\">\n",
              "    <g>\n",
              "        <path d=\"M19 3H5c-1.1 0-2 .9-2 2v14c0 1.1.9 2 2 2h14c1.1 0 2-.9 2-2V5c0-1.1-.9-2-2-2zM9 17H7v-7h2v7zm4 0h-2V7h2v10zm4 0h-2v-4h2v4z\"/>\n",
              "    </g>\n",
              "</svg>\n",
              "      </button>\n",
              "\n",
              "<style>\n",
              "  .colab-df-quickchart {\n",
              "      --bg-color: #E8F0FE;\n",
              "      --fill-color: #1967D2;\n",
              "      --hover-bg-color: #E2EBFA;\n",
              "      --hover-fill-color: #174EA6;\n",
              "      --disabled-fill-color: #AAA;\n",
              "      --disabled-bg-color: #DDD;\n",
              "  }\n",
              "\n",
              "  [theme=dark] .colab-df-quickchart {\n",
              "      --bg-color: #3B4455;\n",
              "      --fill-color: #D2E3FC;\n",
              "      --hover-bg-color: #434B5C;\n",
              "      --hover-fill-color: #FFFFFF;\n",
              "      --disabled-bg-color: #3B4455;\n",
              "      --disabled-fill-color: #666;\n",
              "  }\n",
              "\n",
              "  .colab-df-quickchart {\n",
              "    background-color: var(--bg-color);\n",
              "    border: none;\n",
              "    border-radius: 50%;\n",
              "    cursor: pointer;\n",
              "    display: none;\n",
              "    fill: var(--fill-color);\n",
              "    height: 32px;\n",
              "    padding: 0;\n",
              "    width: 32px;\n",
              "  }\n",
              "\n",
              "  .colab-df-quickchart:hover {\n",
              "    background-color: var(--hover-bg-color);\n",
              "    box-shadow: 0 1px 2px rgba(60, 64, 67, 0.3), 0 1px 3px 1px rgba(60, 64, 67, 0.15);\n",
              "    fill: var(--button-hover-fill-color);\n",
              "  }\n",
              "\n",
              "  .colab-df-quickchart-complete:disabled,\n",
              "  .colab-df-quickchart-complete:disabled:hover {\n",
              "    background-color: var(--disabled-bg-color);\n",
              "    fill: var(--disabled-fill-color);\n",
              "    box-shadow: none;\n",
              "  }\n",
              "\n",
              "  .colab-df-spinner {\n",
              "    border: 2px solid var(--fill-color);\n",
              "    border-color: transparent;\n",
              "    border-bottom-color: var(--fill-color);\n",
              "    animation:\n",
              "      spin 1s steps(1) infinite;\n",
              "  }\n",
              "\n",
              "  @keyframes spin {\n",
              "    0% {\n",
              "      border-color: transparent;\n",
              "      border-bottom-color: var(--fill-color);\n",
              "      border-left-color: var(--fill-color);\n",
              "    }\n",
              "    20% {\n",
              "      border-color: transparent;\n",
              "      border-left-color: var(--fill-color);\n",
              "      border-top-color: var(--fill-color);\n",
              "    }\n",
              "    30% {\n",
              "      border-color: transparent;\n",
              "      border-left-color: var(--fill-color);\n",
              "      border-top-color: var(--fill-color);\n",
              "      border-right-color: var(--fill-color);\n",
              "    }\n",
              "    40% {\n",
              "      border-color: transparent;\n",
              "      border-right-color: var(--fill-color);\n",
              "      border-top-color: var(--fill-color);\n",
              "    }\n",
              "    60% {\n",
              "      border-color: transparent;\n",
              "      border-right-color: var(--fill-color);\n",
              "    }\n",
              "    80% {\n",
              "      border-color: transparent;\n",
              "      border-right-color: var(--fill-color);\n",
              "      border-bottom-color: var(--fill-color);\n",
              "    }\n",
              "    90% {\n",
              "      border-color: transparent;\n",
              "      border-bottom-color: var(--fill-color);\n",
              "    }\n",
              "  }\n",
              "</style>\n",
              "\n",
              "      <script>\n",
              "        async function quickchart(key) {\n",
              "          const quickchartButtonEl =\n",
              "            document.querySelector('#' + key + ' button');\n",
              "          quickchartButtonEl.disabled = true;  // To prevent multiple clicks.\n",
              "          quickchartButtonEl.classList.add('colab-df-spinner');\n",
              "          try {\n",
              "            const charts = await google.colab.kernel.invokeFunction(\n",
              "                'suggestCharts', [key], {});\n",
              "          } catch (error) {\n",
              "            console.error('Error during call to suggestCharts:', error);\n",
              "          }\n",
              "          quickchartButtonEl.classList.remove('colab-df-spinner');\n",
              "          quickchartButtonEl.classList.add('colab-df-quickchart-complete');\n",
              "        }\n",
              "        (() => {\n",
              "          let quickchartButtonEl =\n",
              "            document.querySelector('#df-e582d50b-4d5e-4729-bbb3-2dbd819a320d button');\n",
              "          quickchartButtonEl.style.display =\n",
              "            google.colab.kernel.accessAllowed ? 'block' : 'none';\n",
              "        })();\n",
              "      </script>\n",
              "    </div>\n",
              "\n",
              "    </div>\n",
              "  </div>\n"
            ],
            "application/vnd.google.colaboratory.intrinsic+json": {
              "type": "dataframe",
              "repr_error": "0"
            }
          },
          "metadata": {},
          "execution_count": 1
        }
      ]
    },
    {
      "cell_type": "markdown",
      "source": [
        "#**2) CSV fayliga yozish**\n",
        "* Quyidagi maʼlumotlardan dataframe yarating va uni `people_data.csv` fayliga saqlang.\n",
        "```\n",
        "data = {\n",
        "    \"Name\": [\"Alice\", \"Bob\", \"Charlie\", \"David\", \"Eve\", \"Frank\", \"Grace\", \"Hannah\", \"Ivy\", \"Jack\"],\n",
        "    \"Age\": [25, 30, 35, 40, 28, 33, 38, 45, 29, 31],\n",
        "    \"City\": [\"Tashkent\", \"Samarkand\", \"Bukhara\", \"Andijan\", \"Nukus\", \"Khiva\", \"Namangan\", \"Fergana\", \"Jizzakh\", \"Termez\"]\n",
        "}\n",
        "```\n",
        "* Quyidagi maʼlumotlardan yana bir dataframe yarating va uni `people_data_2.csv` fayliga saqlang.\n",
        "```\n",
        "{\n",
        "'Name': ['Alice', 'Bob', 'Charlie'],\n",
        "'Age': [25, 30, 35]\n",
        "}\n",
        "```"
      ],
      "metadata": {
        "id": "iOl4-bYHZMKs"
      }
    },
    {
      "cell_type": "code",
      "source": [
        "data = {\n",
        "  \"Name\": [\"Alice\", \"Bob\", \"Charlie\", \"David\", \"Eve\", \"Frank\", \"Grace\", \"Hannah\", \"Ivy\", \"Jack\"],\n",
        "  \"Age\": [25, 30, 35, 40, 28, 33, 38, 45, 29, 31],\n",
        "  \"City\": [\"Tashkent\", \"Samarkand\", \"Bukhara\", \"Andijan\", \"Nukus\", \"Khiva\", \"Namangan\", \"Fergana\", \"Jizzakh\", \"Termez\"]\n",
        "}\n",
        "df2 = pd.DataFrame(data)\n",
        "df2.to_csv('people_data_2.csv')"
      ],
      "metadata": {
        "id": "jwWVChQJaaGF"
      },
      "execution_count": 2,
      "outputs": []
    },
    {
      "cell_type": "markdown",
      "source": [
        "#**3) HDF5 formati bilan ishlash**\n",
        "* Yuqorida yaratgan dataframeʼlaringizni `people.h5` faylida saqlang.\n",
        "* `people.h5` faylidagi barcha jadvallarni oʻqing!"
      ],
      "metadata": {
        "id": "0zLfcOsnajs1"
      }
    },
    {
      "cell_type": "code",
      "source": [
        "people = pd.HDFStore('people.h5')\n",
        "people.put('df',df)\n",
        "people.put('df2',df2)\n",
        "people.keys()"
      ],
      "metadata": {
        "id": "MLt3Ia9yblg7",
        "colab": {
          "base_uri": "https://localhost:8080/"
        },
        "outputId": "04d68f7c-00bc-42d8-c962-540070c2641c"
      },
      "execution_count": 3,
      "outputs": [
        {
          "output_type": "execute_result",
          "data": {
            "text/plain": [
              "['/df', '/df2']"
            ]
          },
          "metadata": {},
          "execution_count": 3
        }
      ]
    },
    {
      "cell_type": "code",
      "source": [
        "people.close()"
      ],
      "metadata": {
        "id": "VqwAJQx9wjB2"
      },
      "execution_count": 4,
      "outputs": []
    },
    {
      "cell_type": "markdown",
      "source": [
        "#**4) JSON fayllar bilan ishlash**\n",
        "1. Quyidagi maʼlumotlarni dataframe koʻrinishida oʻqing va uni `data.json` fayliga yozing!\n",
        "```\n",
        "data = {\n",
        "    \"Name\": [\"Alice\", \"Bob\", \"Charlie\", \"David\", \"Eve\", \"Frank\", \"Grace\", \"Hannah\", \"Ivy\", \"Jack\"],\n",
        "    \"Age\": [25, 30, 35, 40, 28, 33, 38, 45, 29, 31],\n",
        "    \"City\": [\"Tashkent\", \"Samarkand\", \"Bukhara\", \"Andijan\", \"Nukus\", \"Khiva\", \"Namangan\", \"Fergana\", \"Jizzakh\", \"Termez\"]\n",
        "}\n",
        "```\n"
      ],
      "metadata": {
        "id": "yrVMDH4Eb7Nb"
      }
    },
    {
      "cell_type": "code",
      "source": [
        "data = {\n",
        " \"Name\": [\"Alice\", \"Bob\", \"Charlie\", \"David\", \"Eve\", \"Frank\", \"Grace\", \"Hannah\", \"Ivy\", \"Jack\"],\n",
        " \"Age\": [25, 30, 35, 40, 28, 33, 38, 45, 29, 31],\n",
        " \"City\": [\"Tashkent\", \"Samarkand\", \"Bukhara\", \"Andijan\", \"Nukus\", \"Khiva\", \"Namangan\", \"Fergana\", \"Jizzakh\", \"Termez\"]\n",
        "}\n",
        "df = pd.DataFrame(data)\n",
        "df.head()"
      ],
      "metadata": {
        "id": "y9R_wLU0RqGI",
        "colab": {
          "base_uri": "https://localhost:8080/",
          "height": 206
        },
        "outputId": "d13d0e7a-7cb9-4e63-be69-a62258e2eeb7"
      },
      "execution_count": 7,
      "outputs": [
        {
          "output_type": "execute_result",
          "data": {
            "text/plain": [
              "      Name  Age       City\n",
              "0    Alice   25   Tashkent\n",
              "1      Bob   30  Samarkand\n",
              "2  Charlie   35    Bukhara\n",
              "3    David   40    Andijan\n",
              "4      Eve   28      Nukus"
            ],
            "text/html": [
              "\n",
              "  <div id=\"df-35ac0fac-c1b2-404a-beee-8634354c690a\" class=\"colab-df-container\">\n",
              "    <div>\n",
              "<style scoped>\n",
              "    .dataframe tbody tr th:only-of-type {\n",
              "        vertical-align: middle;\n",
              "    }\n",
              "\n",
              "    .dataframe tbody tr th {\n",
              "        vertical-align: top;\n",
              "    }\n",
              "\n",
              "    .dataframe thead th {\n",
              "        text-align: right;\n",
              "    }\n",
              "</style>\n",
              "<table border=\"1\" class=\"dataframe\">\n",
              "  <thead>\n",
              "    <tr style=\"text-align: right;\">\n",
              "      <th></th>\n",
              "      <th>Name</th>\n",
              "      <th>Age</th>\n",
              "      <th>City</th>\n",
              "    </tr>\n",
              "  </thead>\n",
              "  <tbody>\n",
              "    <tr>\n",
              "      <th>0</th>\n",
              "      <td>Alice</td>\n",
              "      <td>25</td>\n",
              "      <td>Tashkent</td>\n",
              "    </tr>\n",
              "    <tr>\n",
              "      <th>1</th>\n",
              "      <td>Bob</td>\n",
              "      <td>30</td>\n",
              "      <td>Samarkand</td>\n",
              "    </tr>\n",
              "    <tr>\n",
              "      <th>2</th>\n",
              "      <td>Charlie</td>\n",
              "      <td>35</td>\n",
              "      <td>Bukhara</td>\n",
              "    </tr>\n",
              "    <tr>\n",
              "      <th>3</th>\n",
              "      <td>David</td>\n",
              "      <td>40</td>\n",
              "      <td>Andijan</td>\n",
              "    </tr>\n",
              "    <tr>\n",
              "      <th>4</th>\n",
              "      <td>Eve</td>\n",
              "      <td>28</td>\n",
              "      <td>Nukus</td>\n",
              "    </tr>\n",
              "  </tbody>\n",
              "</table>\n",
              "</div>\n",
              "    <div class=\"colab-df-buttons\">\n",
              "\n",
              "  <div class=\"colab-df-container\">\n",
              "    <button class=\"colab-df-convert\" onclick=\"convertToInteractive('df-35ac0fac-c1b2-404a-beee-8634354c690a')\"\n",
              "            title=\"Convert this dataframe to an interactive table.\"\n",
              "            style=\"display:none;\">\n",
              "\n",
              "  <svg xmlns=\"http://www.w3.org/2000/svg\" height=\"24px\" viewBox=\"0 -960 960 960\">\n",
              "    <path d=\"M120-120v-720h720v720H120Zm60-500h600v-160H180v160Zm220 220h160v-160H400v160Zm0 220h160v-160H400v160ZM180-400h160v-160H180v160Zm440 0h160v-160H620v160ZM180-180h160v-160H180v160Zm440 0h160v-160H620v160Z\"/>\n",
              "  </svg>\n",
              "    </button>\n",
              "\n",
              "  <style>\n",
              "    .colab-df-container {\n",
              "      display:flex;\n",
              "      gap: 12px;\n",
              "    }\n",
              "\n",
              "    .colab-df-convert {\n",
              "      background-color: #E8F0FE;\n",
              "      border: none;\n",
              "      border-radius: 50%;\n",
              "      cursor: pointer;\n",
              "      display: none;\n",
              "      fill: #1967D2;\n",
              "      height: 32px;\n",
              "      padding: 0 0 0 0;\n",
              "      width: 32px;\n",
              "    }\n",
              "\n",
              "    .colab-df-convert:hover {\n",
              "      background-color: #E2EBFA;\n",
              "      box-shadow: 0px 1px 2px rgba(60, 64, 67, 0.3), 0px 1px 3px 1px rgba(60, 64, 67, 0.15);\n",
              "      fill: #174EA6;\n",
              "    }\n",
              "\n",
              "    .colab-df-buttons div {\n",
              "      margin-bottom: 4px;\n",
              "    }\n",
              "\n",
              "    [theme=dark] .colab-df-convert {\n",
              "      background-color: #3B4455;\n",
              "      fill: #D2E3FC;\n",
              "    }\n",
              "\n",
              "    [theme=dark] .colab-df-convert:hover {\n",
              "      background-color: #434B5C;\n",
              "      box-shadow: 0px 1px 3px 1px rgba(0, 0, 0, 0.15);\n",
              "      filter: drop-shadow(0px 1px 2px rgba(0, 0, 0, 0.3));\n",
              "      fill: #FFFFFF;\n",
              "    }\n",
              "  </style>\n",
              "\n",
              "    <script>\n",
              "      const buttonEl =\n",
              "        document.querySelector('#df-35ac0fac-c1b2-404a-beee-8634354c690a button.colab-df-convert');\n",
              "      buttonEl.style.display =\n",
              "        google.colab.kernel.accessAllowed ? 'block' : 'none';\n",
              "\n",
              "      async function convertToInteractive(key) {\n",
              "        const element = document.querySelector('#df-35ac0fac-c1b2-404a-beee-8634354c690a');\n",
              "        const dataTable =\n",
              "          await google.colab.kernel.invokeFunction('convertToInteractive',\n",
              "                                                    [key], {});\n",
              "        if (!dataTable) return;\n",
              "\n",
              "        const docLinkHtml = 'Like what you see? Visit the ' +\n",
              "          '<a target=\"_blank\" href=https://colab.research.google.com/notebooks/data_table.ipynb>data table notebook</a>'\n",
              "          + ' to learn more about interactive tables.';\n",
              "        element.innerHTML = '';\n",
              "        dataTable['output_type'] = 'display_data';\n",
              "        await google.colab.output.renderOutput(dataTable, element);\n",
              "        const docLink = document.createElement('div');\n",
              "        docLink.innerHTML = docLinkHtml;\n",
              "        element.appendChild(docLink);\n",
              "      }\n",
              "    </script>\n",
              "  </div>\n",
              "\n",
              "\n",
              "    <div id=\"df-bed326d9-2553-4ac0-9f3b-ae17c59015ce\">\n",
              "      <button class=\"colab-df-quickchart\" onclick=\"quickchart('df-bed326d9-2553-4ac0-9f3b-ae17c59015ce')\"\n",
              "                title=\"Suggest charts\"\n",
              "                style=\"display:none;\">\n",
              "\n",
              "<svg xmlns=\"http://www.w3.org/2000/svg\" height=\"24px\"viewBox=\"0 0 24 24\"\n",
              "     width=\"24px\">\n",
              "    <g>\n",
              "        <path d=\"M19 3H5c-1.1 0-2 .9-2 2v14c0 1.1.9 2 2 2h14c1.1 0 2-.9 2-2V5c0-1.1-.9-2-2-2zM9 17H7v-7h2v7zm4 0h-2V7h2v10zm4 0h-2v-4h2v4z\"/>\n",
              "    </g>\n",
              "</svg>\n",
              "      </button>\n",
              "\n",
              "<style>\n",
              "  .colab-df-quickchart {\n",
              "      --bg-color: #E8F0FE;\n",
              "      --fill-color: #1967D2;\n",
              "      --hover-bg-color: #E2EBFA;\n",
              "      --hover-fill-color: #174EA6;\n",
              "      --disabled-fill-color: #AAA;\n",
              "      --disabled-bg-color: #DDD;\n",
              "  }\n",
              "\n",
              "  [theme=dark] .colab-df-quickchart {\n",
              "      --bg-color: #3B4455;\n",
              "      --fill-color: #D2E3FC;\n",
              "      --hover-bg-color: #434B5C;\n",
              "      --hover-fill-color: #FFFFFF;\n",
              "      --disabled-bg-color: #3B4455;\n",
              "      --disabled-fill-color: #666;\n",
              "  }\n",
              "\n",
              "  .colab-df-quickchart {\n",
              "    background-color: var(--bg-color);\n",
              "    border: none;\n",
              "    border-radius: 50%;\n",
              "    cursor: pointer;\n",
              "    display: none;\n",
              "    fill: var(--fill-color);\n",
              "    height: 32px;\n",
              "    padding: 0;\n",
              "    width: 32px;\n",
              "  }\n",
              "\n",
              "  .colab-df-quickchart:hover {\n",
              "    background-color: var(--hover-bg-color);\n",
              "    box-shadow: 0 1px 2px rgba(60, 64, 67, 0.3), 0 1px 3px 1px rgba(60, 64, 67, 0.15);\n",
              "    fill: var(--button-hover-fill-color);\n",
              "  }\n",
              "\n",
              "  .colab-df-quickchart-complete:disabled,\n",
              "  .colab-df-quickchart-complete:disabled:hover {\n",
              "    background-color: var(--disabled-bg-color);\n",
              "    fill: var(--disabled-fill-color);\n",
              "    box-shadow: none;\n",
              "  }\n",
              "\n",
              "  .colab-df-spinner {\n",
              "    border: 2px solid var(--fill-color);\n",
              "    border-color: transparent;\n",
              "    border-bottom-color: var(--fill-color);\n",
              "    animation:\n",
              "      spin 1s steps(1) infinite;\n",
              "  }\n",
              "\n",
              "  @keyframes spin {\n",
              "    0% {\n",
              "      border-color: transparent;\n",
              "      border-bottom-color: var(--fill-color);\n",
              "      border-left-color: var(--fill-color);\n",
              "    }\n",
              "    20% {\n",
              "      border-color: transparent;\n",
              "      border-left-color: var(--fill-color);\n",
              "      border-top-color: var(--fill-color);\n",
              "    }\n",
              "    30% {\n",
              "      border-color: transparent;\n",
              "      border-left-color: var(--fill-color);\n",
              "      border-top-color: var(--fill-color);\n",
              "      border-right-color: var(--fill-color);\n",
              "    }\n",
              "    40% {\n",
              "      border-color: transparent;\n",
              "      border-right-color: var(--fill-color);\n",
              "      border-top-color: var(--fill-color);\n",
              "    }\n",
              "    60% {\n",
              "      border-color: transparent;\n",
              "      border-right-color: var(--fill-color);\n",
              "    }\n",
              "    80% {\n",
              "      border-color: transparent;\n",
              "      border-right-color: var(--fill-color);\n",
              "      border-bottom-color: var(--fill-color);\n",
              "    }\n",
              "    90% {\n",
              "      border-color: transparent;\n",
              "      border-bottom-color: var(--fill-color);\n",
              "    }\n",
              "  }\n",
              "</style>\n",
              "\n",
              "      <script>\n",
              "        async function quickchart(key) {\n",
              "          const quickchartButtonEl =\n",
              "            document.querySelector('#' + key + ' button');\n",
              "          quickchartButtonEl.disabled = true;  // To prevent multiple clicks.\n",
              "          quickchartButtonEl.classList.add('colab-df-spinner');\n",
              "          try {\n",
              "            const charts = await google.colab.kernel.invokeFunction(\n",
              "                'suggestCharts', [key], {});\n",
              "          } catch (error) {\n",
              "            console.error('Error during call to suggestCharts:', error);\n",
              "          }\n",
              "          quickchartButtonEl.classList.remove('colab-df-spinner');\n",
              "          quickchartButtonEl.classList.add('colab-df-quickchart-complete');\n",
              "        }\n",
              "        (() => {\n",
              "          let quickchartButtonEl =\n",
              "            document.querySelector('#df-bed326d9-2553-4ac0-9f3b-ae17c59015ce button');\n",
              "          quickchartButtonEl.style.display =\n",
              "            google.colab.kernel.accessAllowed ? 'block' : 'none';\n",
              "        })();\n",
              "      </script>\n",
              "    </div>\n",
              "\n",
              "    </div>\n",
              "  </div>\n"
            ],
            "application/vnd.google.colaboratory.intrinsic+json": {
              "type": "dataframe",
              "variable_name": "df",
              "summary": "{\n  \"name\": \"df\",\n  \"rows\": 10,\n  \"fields\": [\n    {\n      \"column\": \"Name\",\n      \"properties\": {\n        \"dtype\": \"string\",\n        \"num_unique_values\": 10,\n        \"samples\": [\n          \"Ivy\",\n          \"Bob\",\n          \"Frank\"\n        ],\n        \"semantic_type\": \"\",\n        \"description\": \"\"\n      }\n    },\n    {\n      \"column\": \"Age\",\n      \"properties\": {\n        \"dtype\": \"number\",\n        \"std\": 6,\n        \"min\": 25,\n        \"max\": 45,\n        \"num_unique_values\": 10,\n        \"samples\": [\n          29,\n          30,\n          33\n        ],\n        \"semantic_type\": \"\",\n        \"description\": \"\"\n      }\n    },\n    {\n      \"column\": \"City\",\n      \"properties\": {\n        \"dtype\": \"string\",\n        \"num_unique_values\": 10,\n        \"samples\": [\n          \"Jizzakh\",\n          \"Samarkand\",\n          \"Khiva\"\n        ],\n        \"semantic_type\": \"\",\n        \"description\": \"\"\n      }\n    }\n  ]\n}"
            }
          },
          "metadata": {},
          "execution_count": 7
        }
      ]
    },
    {
      "cell_type": "code",
      "source": [
        "df.to_json('data.json')"
      ],
      "metadata": {
        "id": "lSOzbnbeysYA"
      },
      "execution_count": 8,
      "outputs": []
    },
    {
      "cell_type": "markdown",
      "source": [
        "#**5) APIʼlar bilan ishlash**\n",
        "1. Quyida berilgan API 17 mingdan ortiq kriptovalyutalarning dollarga nisbatan narxi haqidagi maʼlumotlarni saqlaydi. Siz esa endi:\n",
        "  * API orqali barcha maʼlumotlarni yigʻib oling;\n",
        "  * ularni dataframe koʻrinishida saqlang;\n",
        "  * maʼlumotlar boshidan 5 ta qatorni ekranga chiqaring;\n",
        "  * maʼlumotlar ichidan `bitcoin` ni izlab toping!"
      ],
      "metadata": {
        "id": "and9JBOxTZi1"
      }
    },
    {
      "cell_type": "code",
      "source": [
        "coins_url = \"https://api.coingecko.com/api/v3/coins/list\"\n",
        "import requests\n",
        "response = requests.get(coins_url)\n",
        "data = response.json()\n",
        "df = pd.DataFrame(data)\n",
        "df.head(5)"
      ],
      "metadata": {
        "id": "hTiRN4GtUux1",
        "colab": {
          "base_uri": "https://localhost:8080/",
          "height": 206
        },
        "outputId": "ebe3fee2-9130-4f32-a235-45b3d7a0df35"
      },
      "execution_count": 9,
      "outputs": [
        {
          "output_type": "execute_result",
          "data": {
            "text/plain": [
              "                    id symbol                 name\n",
              "0                    _    gib           ༼ つ ◕_◕ ༽つ\n",
              "1          000-capital    000          000 Capital\n",
              "2               0chain    zcn                  Zus\n",
              "3                 0dog   0dog         Bitcoin Dogs\n",
              "4  0-knowledge-network    0kn  0 Knowledge Network"
            ],
            "text/html": [
              "\n",
              "  <div id=\"df-1edf6022-8e48-4d88-a7a7-56f4f0f8b08b\" class=\"colab-df-container\">\n",
              "    <div>\n",
              "<style scoped>\n",
              "    .dataframe tbody tr th:only-of-type {\n",
              "        vertical-align: middle;\n",
              "    }\n",
              "\n",
              "    .dataframe tbody tr th {\n",
              "        vertical-align: top;\n",
              "    }\n",
              "\n",
              "    .dataframe thead th {\n",
              "        text-align: right;\n",
              "    }\n",
              "</style>\n",
              "<table border=\"1\" class=\"dataframe\">\n",
              "  <thead>\n",
              "    <tr style=\"text-align: right;\">\n",
              "      <th></th>\n",
              "      <th>id</th>\n",
              "      <th>symbol</th>\n",
              "      <th>name</th>\n",
              "    </tr>\n",
              "  </thead>\n",
              "  <tbody>\n",
              "    <tr>\n",
              "      <th>0</th>\n",
              "      <td>_</td>\n",
              "      <td>gib</td>\n",
              "      <td>༼ つ ◕_◕ ༽つ</td>\n",
              "    </tr>\n",
              "    <tr>\n",
              "      <th>1</th>\n",
              "      <td>000-capital</td>\n",
              "      <td>000</td>\n",
              "      <td>000 Capital</td>\n",
              "    </tr>\n",
              "    <tr>\n",
              "      <th>2</th>\n",
              "      <td>0chain</td>\n",
              "      <td>zcn</td>\n",
              "      <td>Zus</td>\n",
              "    </tr>\n",
              "    <tr>\n",
              "      <th>3</th>\n",
              "      <td>0dog</td>\n",
              "      <td>0dog</td>\n",
              "      <td>Bitcoin Dogs</td>\n",
              "    </tr>\n",
              "    <tr>\n",
              "      <th>4</th>\n",
              "      <td>0-knowledge-network</td>\n",
              "      <td>0kn</td>\n",
              "      <td>0 Knowledge Network</td>\n",
              "    </tr>\n",
              "  </tbody>\n",
              "</table>\n",
              "</div>\n",
              "    <div class=\"colab-df-buttons\">\n",
              "\n",
              "  <div class=\"colab-df-container\">\n",
              "    <button class=\"colab-df-convert\" onclick=\"convertToInteractive('df-1edf6022-8e48-4d88-a7a7-56f4f0f8b08b')\"\n",
              "            title=\"Convert this dataframe to an interactive table.\"\n",
              "            style=\"display:none;\">\n",
              "\n",
              "  <svg xmlns=\"http://www.w3.org/2000/svg\" height=\"24px\" viewBox=\"0 -960 960 960\">\n",
              "    <path d=\"M120-120v-720h720v720H120Zm60-500h600v-160H180v160Zm220 220h160v-160H400v160Zm0 220h160v-160H400v160ZM180-400h160v-160H180v160Zm440 0h160v-160H620v160ZM180-180h160v-160H180v160Zm440 0h160v-160H620v160Z\"/>\n",
              "  </svg>\n",
              "    </button>\n",
              "\n",
              "  <style>\n",
              "    .colab-df-container {\n",
              "      display:flex;\n",
              "      gap: 12px;\n",
              "    }\n",
              "\n",
              "    .colab-df-convert {\n",
              "      background-color: #E8F0FE;\n",
              "      border: none;\n",
              "      border-radius: 50%;\n",
              "      cursor: pointer;\n",
              "      display: none;\n",
              "      fill: #1967D2;\n",
              "      height: 32px;\n",
              "      padding: 0 0 0 0;\n",
              "      width: 32px;\n",
              "    }\n",
              "\n",
              "    .colab-df-convert:hover {\n",
              "      background-color: #E2EBFA;\n",
              "      box-shadow: 0px 1px 2px rgba(60, 64, 67, 0.3), 0px 1px 3px 1px rgba(60, 64, 67, 0.15);\n",
              "      fill: #174EA6;\n",
              "    }\n",
              "\n",
              "    .colab-df-buttons div {\n",
              "      margin-bottom: 4px;\n",
              "    }\n",
              "\n",
              "    [theme=dark] .colab-df-convert {\n",
              "      background-color: #3B4455;\n",
              "      fill: #D2E3FC;\n",
              "    }\n",
              "\n",
              "    [theme=dark] .colab-df-convert:hover {\n",
              "      background-color: #434B5C;\n",
              "      box-shadow: 0px 1px 3px 1px rgba(0, 0, 0, 0.15);\n",
              "      filter: drop-shadow(0px 1px 2px rgba(0, 0, 0, 0.3));\n",
              "      fill: #FFFFFF;\n",
              "    }\n",
              "  </style>\n",
              "\n",
              "    <script>\n",
              "      const buttonEl =\n",
              "        document.querySelector('#df-1edf6022-8e48-4d88-a7a7-56f4f0f8b08b button.colab-df-convert');\n",
              "      buttonEl.style.display =\n",
              "        google.colab.kernel.accessAllowed ? 'block' : 'none';\n",
              "\n",
              "      async function convertToInteractive(key) {\n",
              "        const element = document.querySelector('#df-1edf6022-8e48-4d88-a7a7-56f4f0f8b08b');\n",
              "        const dataTable =\n",
              "          await google.colab.kernel.invokeFunction('convertToInteractive',\n",
              "                                                    [key], {});\n",
              "        if (!dataTable) return;\n",
              "\n",
              "        const docLinkHtml = 'Like what you see? Visit the ' +\n",
              "          '<a target=\"_blank\" href=https://colab.research.google.com/notebooks/data_table.ipynb>data table notebook</a>'\n",
              "          + ' to learn more about interactive tables.';\n",
              "        element.innerHTML = '';\n",
              "        dataTable['output_type'] = 'display_data';\n",
              "        await google.colab.output.renderOutput(dataTable, element);\n",
              "        const docLink = document.createElement('div');\n",
              "        docLink.innerHTML = docLinkHtml;\n",
              "        element.appendChild(docLink);\n",
              "      }\n",
              "    </script>\n",
              "  </div>\n",
              "\n",
              "\n",
              "    <div id=\"df-8549bc43-4cbb-4a8a-bab2-e649296ce4a6\">\n",
              "      <button class=\"colab-df-quickchart\" onclick=\"quickchart('df-8549bc43-4cbb-4a8a-bab2-e649296ce4a6')\"\n",
              "                title=\"Suggest charts\"\n",
              "                style=\"display:none;\">\n",
              "\n",
              "<svg xmlns=\"http://www.w3.org/2000/svg\" height=\"24px\"viewBox=\"0 0 24 24\"\n",
              "     width=\"24px\">\n",
              "    <g>\n",
              "        <path d=\"M19 3H5c-1.1 0-2 .9-2 2v14c0 1.1.9 2 2 2h14c1.1 0 2-.9 2-2V5c0-1.1-.9-2-2-2zM9 17H7v-7h2v7zm4 0h-2V7h2v10zm4 0h-2v-4h2v4z\"/>\n",
              "    </g>\n",
              "</svg>\n",
              "      </button>\n",
              "\n",
              "<style>\n",
              "  .colab-df-quickchart {\n",
              "      --bg-color: #E8F0FE;\n",
              "      --fill-color: #1967D2;\n",
              "      --hover-bg-color: #E2EBFA;\n",
              "      --hover-fill-color: #174EA6;\n",
              "      --disabled-fill-color: #AAA;\n",
              "      --disabled-bg-color: #DDD;\n",
              "  }\n",
              "\n",
              "  [theme=dark] .colab-df-quickchart {\n",
              "      --bg-color: #3B4455;\n",
              "      --fill-color: #D2E3FC;\n",
              "      --hover-bg-color: #434B5C;\n",
              "      --hover-fill-color: #FFFFFF;\n",
              "      --disabled-bg-color: #3B4455;\n",
              "      --disabled-fill-color: #666;\n",
              "  }\n",
              "\n",
              "  .colab-df-quickchart {\n",
              "    background-color: var(--bg-color);\n",
              "    border: none;\n",
              "    border-radius: 50%;\n",
              "    cursor: pointer;\n",
              "    display: none;\n",
              "    fill: var(--fill-color);\n",
              "    height: 32px;\n",
              "    padding: 0;\n",
              "    width: 32px;\n",
              "  }\n",
              "\n",
              "  .colab-df-quickchart:hover {\n",
              "    background-color: var(--hover-bg-color);\n",
              "    box-shadow: 0 1px 2px rgba(60, 64, 67, 0.3), 0 1px 3px 1px rgba(60, 64, 67, 0.15);\n",
              "    fill: var(--button-hover-fill-color);\n",
              "  }\n",
              "\n",
              "  .colab-df-quickchart-complete:disabled,\n",
              "  .colab-df-quickchart-complete:disabled:hover {\n",
              "    background-color: var(--disabled-bg-color);\n",
              "    fill: var(--disabled-fill-color);\n",
              "    box-shadow: none;\n",
              "  }\n",
              "\n",
              "  .colab-df-spinner {\n",
              "    border: 2px solid var(--fill-color);\n",
              "    border-color: transparent;\n",
              "    border-bottom-color: var(--fill-color);\n",
              "    animation:\n",
              "      spin 1s steps(1) infinite;\n",
              "  }\n",
              "\n",
              "  @keyframes spin {\n",
              "    0% {\n",
              "      border-color: transparent;\n",
              "      border-bottom-color: var(--fill-color);\n",
              "      border-left-color: var(--fill-color);\n",
              "    }\n",
              "    20% {\n",
              "      border-color: transparent;\n",
              "      border-left-color: var(--fill-color);\n",
              "      border-top-color: var(--fill-color);\n",
              "    }\n",
              "    30% {\n",
              "      border-color: transparent;\n",
              "      border-left-color: var(--fill-color);\n",
              "      border-top-color: var(--fill-color);\n",
              "      border-right-color: var(--fill-color);\n",
              "    }\n",
              "    40% {\n",
              "      border-color: transparent;\n",
              "      border-right-color: var(--fill-color);\n",
              "      border-top-color: var(--fill-color);\n",
              "    }\n",
              "    60% {\n",
              "      border-color: transparent;\n",
              "      border-right-color: var(--fill-color);\n",
              "    }\n",
              "    80% {\n",
              "      border-color: transparent;\n",
              "      border-right-color: var(--fill-color);\n",
              "      border-bottom-color: var(--fill-color);\n",
              "    }\n",
              "    90% {\n",
              "      border-color: transparent;\n",
              "      border-bottom-color: var(--fill-color);\n",
              "    }\n",
              "  }\n",
              "</style>\n",
              "\n",
              "      <script>\n",
              "        async function quickchart(key) {\n",
              "          const quickchartButtonEl =\n",
              "            document.querySelector('#' + key + ' button');\n",
              "          quickchartButtonEl.disabled = true;  // To prevent multiple clicks.\n",
              "          quickchartButtonEl.classList.add('colab-df-spinner');\n",
              "          try {\n",
              "            const charts = await google.colab.kernel.invokeFunction(\n",
              "                'suggestCharts', [key], {});\n",
              "          } catch (error) {\n",
              "            console.error('Error during call to suggestCharts:', error);\n",
              "          }\n",
              "          quickchartButtonEl.classList.remove('colab-df-spinner');\n",
              "          quickchartButtonEl.classList.add('colab-df-quickchart-complete');\n",
              "        }\n",
              "        (() => {\n",
              "          let quickchartButtonEl =\n",
              "            document.querySelector('#df-8549bc43-4cbb-4a8a-bab2-e649296ce4a6 button');\n",
              "          quickchartButtonEl.style.display =\n",
              "            google.colab.kernel.accessAllowed ? 'block' : 'none';\n",
              "        })();\n",
              "      </script>\n",
              "    </div>\n",
              "\n",
              "    </div>\n",
              "  </div>\n"
            ],
            "application/vnd.google.colaboratory.intrinsic+json": {
              "type": "dataframe",
              "variable_name": "df",
              "summary": "{\n  \"name\": \"df\",\n  \"rows\": 17838,\n  \"fields\": [\n    {\n      \"column\": \"id\",\n      \"properties\": {\n        \"dtype\": \"string\",\n        \"num_unique_values\": 17838,\n        \"samples\": [\n          \"cointel\",\n          \"mcfinance\",\n          \"access-protocol\"\n        ],\n        \"semantic_type\": \"\",\n        \"description\": \"\"\n      }\n    },\n    {\n      \"column\": \"symbol\",\n      \"properties\": {\n        \"dtype\": \"string\",\n        \"num_unique_values\": 13517,\n        \"samples\": [\n          \"sobtc\",\n          \"fofo\",\n          \"linda\"\n        ],\n        \"semantic_type\": \"\",\n        \"description\": \"\"\n      }\n    },\n    {\n      \"column\": \"name\",\n      \"properties\": {\n        \"dtype\": \"string\",\n        \"num_unique_values\": 17434,\n        \"samples\": [\n          \"CYCLE\",\n          \"Wrapped xHOPR\",\n          \"TensorSpace\"\n        ],\n        \"semantic_type\": \"\",\n        \"description\": \"\"\n      }\n    }\n  ]\n}"
            }
          },
          "metadata": {},
          "execution_count": 9
        }
      ]
    },
    {
      "cell_type": "code",
      "source": [
        "df[df['name']=='Bitcoin']"
      ],
      "metadata": {
        "colab": {
          "base_uri": "https://localhost:8080/",
          "height": 81
        },
        "id": "RddTtXf_0wYp",
        "outputId": "8849a455-c71f-4398-fe2e-f053518917c3"
      },
      "execution_count": 11,
      "outputs": [
        {
          "output_type": "execute_result",
          "data": {
            "text/plain": [
              "           id symbol     name\n",
              "2062  bitcoin    btc  Bitcoin"
            ],
            "text/html": [
              "\n",
              "  <div id=\"df-fc6262a3-d136-4671-830d-b74b04b6d7e7\" class=\"colab-df-container\">\n",
              "    <div>\n",
              "<style scoped>\n",
              "    .dataframe tbody tr th:only-of-type {\n",
              "        vertical-align: middle;\n",
              "    }\n",
              "\n",
              "    .dataframe tbody tr th {\n",
              "        vertical-align: top;\n",
              "    }\n",
              "\n",
              "    .dataframe thead th {\n",
              "        text-align: right;\n",
              "    }\n",
              "</style>\n",
              "<table border=\"1\" class=\"dataframe\">\n",
              "  <thead>\n",
              "    <tr style=\"text-align: right;\">\n",
              "      <th></th>\n",
              "      <th>id</th>\n",
              "      <th>symbol</th>\n",
              "      <th>name</th>\n",
              "    </tr>\n",
              "  </thead>\n",
              "  <tbody>\n",
              "    <tr>\n",
              "      <th>2062</th>\n",
              "      <td>bitcoin</td>\n",
              "      <td>btc</td>\n",
              "      <td>Bitcoin</td>\n",
              "    </tr>\n",
              "  </tbody>\n",
              "</table>\n",
              "</div>\n",
              "    <div class=\"colab-df-buttons\">\n",
              "\n",
              "  <div class=\"colab-df-container\">\n",
              "    <button class=\"colab-df-convert\" onclick=\"convertToInteractive('df-fc6262a3-d136-4671-830d-b74b04b6d7e7')\"\n",
              "            title=\"Convert this dataframe to an interactive table.\"\n",
              "            style=\"display:none;\">\n",
              "\n",
              "  <svg xmlns=\"http://www.w3.org/2000/svg\" height=\"24px\" viewBox=\"0 -960 960 960\">\n",
              "    <path d=\"M120-120v-720h720v720H120Zm60-500h600v-160H180v160Zm220 220h160v-160H400v160Zm0 220h160v-160H400v160ZM180-400h160v-160H180v160Zm440 0h160v-160H620v160ZM180-180h160v-160H180v160Zm440 0h160v-160H620v160Z\"/>\n",
              "  </svg>\n",
              "    </button>\n",
              "\n",
              "  <style>\n",
              "    .colab-df-container {\n",
              "      display:flex;\n",
              "      gap: 12px;\n",
              "    }\n",
              "\n",
              "    .colab-df-convert {\n",
              "      background-color: #E8F0FE;\n",
              "      border: none;\n",
              "      border-radius: 50%;\n",
              "      cursor: pointer;\n",
              "      display: none;\n",
              "      fill: #1967D2;\n",
              "      height: 32px;\n",
              "      padding: 0 0 0 0;\n",
              "      width: 32px;\n",
              "    }\n",
              "\n",
              "    .colab-df-convert:hover {\n",
              "      background-color: #E2EBFA;\n",
              "      box-shadow: 0px 1px 2px rgba(60, 64, 67, 0.3), 0px 1px 3px 1px rgba(60, 64, 67, 0.15);\n",
              "      fill: #174EA6;\n",
              "    }\n",
              "\n",
              "    .colab-df-buttons div {\n",
              "      margin-bottom: 4px;\n",
              "    }\n",
              "\n",
              "    [theme=dark] .colab-df-convert {\n",
              "      background-color: #3B4455;\n",
              "      fill: #D2E3FC;\n",
              "    }\n",
              "\n",
              "    [theme=dark] .colab-df-convert:hover {\n",
              "      background-color: #434B5C;\n",
              "      box-shadow: 0px 1px 3px 1px rgba(0, 0, 0, 0.15);\n",
              "      filter: drop-shadow(0px 1px 2px rgba(0, 0, 0, 0.3));\n",
              "      fill: #FFFFFF;\n",
              "    }\n",
              "  </style>\n",
              "\n",
              "    <script>\n",
              "      const buttonEl =\n",
              "        document.querySelector('#df-fc6262a3-d136-4671-830d-b74b04b6d7e7 button.colab-df-convert');\n",
              "      buttonEl.style.display =\n",
              "        google.colab.kernel.accessAllowed ? 'block' : 'none';\n",
              "\n",
              "      async function convertToInteractive(key) {\n",
              "        const element = document.querySelector('#df-fc6262a3-d136-4671-830d-b74b04b6d7e7');\n",
              "        const dataTable =\n",
              "          await google.colab.kernel.invokeFunction('convertToInteractive',\n",
              "                                                    [key], {});\n",
              "        if (!dataTable) return;\n",
              "\n",
              "        const docLinkHtml = 'Like what you see? Visit the ' +\n",
              "          '<a target=\"_blank\" href=https://colab.research.google.com/notebooks/data_table.ipynb>data table notebook</a>'\n",
              "          + ' to learn more about interactive tables.';\n",
              "        element.innerHTML = '';\n",
              "        dataTable['output_type'] = 'display_data';\n",
              "        await google.colab.output.renderOutput(dataTable, element);\n",
              "        const docLink = document.createElement('div');\n",
              "        docLink.innerHTML = docLinkHtml;\n",
              "        element.appendChild(docLink);\n",
              "      }\n",
              "    </script>\n",
              "  </div>\n",
              "\n",
              "\n",
              "    </div>\n",
              "  </div>\n"
            ],
            "application/vnd.google.colaboratory.intrinsic+json": {
              "type": "dataframe",
              "summary": "{\n  \"name\": \"df[df['name']=='Bitcoin']\",\n  \"rows\": 1,\n  \"fields\": [\n    {\n      \"column\": \"id\",\n      \"properties\": {\n        \"dtype\": \"string\",\n        \"num_unique_values\": 1,\n        \"samples\": [\n          \"bitcoin\"\n        ],\n        \"semantic_type\": \"\",\n        \"description\": \"\"\n      }\n    },\n    {\n      \"column\": \"symbol\",\n      \"properties\": {\n        \"dtype\": \"string\",\n        \"num_unique_values\": 1,\n        \"samples\": [\n          \"btc\"\n        ],\n        \"semantic_type\": \"\",\n        \"description\": \"\"\n      }\n    },\n    {\n      \"column\": \"name\",\n      \"properties\": {\n        \"dtype\": \"string\",\n        \"num_unique_values\": 1,\n        \"samples\": [\n          \"Bitcoin\"\n        ],\n        \"semantic_type\": \"\",\n        \"description\": \"\"\n      }\n    }\n  ]\n}"
            }
          },
          "metadata": {},
          "execution_count": 11
        }
      ]
    },
    {
      "cell_type": "markdown",
      "source": [
        "#**6) APIʼlar bilan ishlash**\n",
        "1. Yuqorida berilgan kriptovalyuta maʼlumotlaridan `id` ustunini roʻyxat koʻrinishida saqlang va bu roʻyxatga `coin_ids` deb nom bering.\n",
        "2. https://api.coingecko.com/api/v3/simple/price?ids={coin_ids}&vs_currencies=usd havolasi orqali kriptovalyutalarning `usd` ga nisbatini oling (birinchi 100 ta maʼlumotni olish yetarli).\n",
        "3. 2-shartda berilgan link orqali olingan maʼlumotlarni dataframe koʻrinishida saqlang. Bunda uning indeksi va `usd` ustuni boʻlsin. `index` -> kriptovalyutalar nomi, `usd` -> narxi\n",
        "\n",
        "#**💡Ishora:** linkdagi `{coin_ids}` oʻzgaruvchi sifatida yozilgan. Siz ham 1-shartda saqlagan `coin_ids` oʻzgaruvchingizni shu qismda yozib keting!\n"
      ],
      "metadata": {
        "id": "Adll0CODXw_C"
      }
    },
    {
      "cell_type": "code",
      "source": [
        "response.json()\n"
      ],
      "metadata": {
        "colab": {
          "base_uri": "https://localhost:8080/"
        },
        "id": "cmZ8scmv7nG-",
        "outputId": "2ef10cba-a6a4-4759-d24b-4f10378b705d"
      },
      "execution_count": 21,
      "outputs": [
        {
          "output_type": "execute_result",
          "data": {
            "text/plain": [
              "{'_': {'usd': 0.00682416},\n",
              " '000-capital': {'usd': 0.00015842},\n",
              " '0chain': {'usd': 0.0057474},\n",
              " '0dog': {'usd': 8.83e-06},\n",
              " '0-knowledge-network': {'usd': 6.42e-06},\n",
              " '0vix-protocol': {},\n",
              " '0x': {'usd': 0.246538},\n",
              " '0x0-ai-ai-smart-contract': {'usd': 0.078043},\n",
              " '0x678-landwolf-1933': {'usd': 5.5926e-08},\n",
              " '0xgasless-2': {'usd': 0.844303},\n",
              " '0xgen': {'usd': 0.00029704},\n",
              " '0x-leverage': {'usd': 0.0006181},\n",
              " '0xlsd': {},\n",
              " '0xmonk': {'usd': 0.00050144},\n",
              " '0xnumber': {'usd': 0.00427849},\n",
              " '0xprivacy': {'usd': 0.00010633},\n",
              " '0xscans': {'usd': 0.00234193},\n",
              " '0xshadow': {'usd': 0.00230231},\n",
              " '0xsim-by-virtuals': {'usd': 0.00231362},\n",
              " '-10': {'usd': 2.646e-05},\n",
              " '1000bonk': {'usd': 0.02772653},\n",
              " '1000btt': {},\n",
              " '1000cat': {'usd': 0.01012833},\n",
              " '1000chems': {'usd': 0.00135913},\n",
              " '1000rats': {},\n",
              " '1000sats-ordinals': {'usd': 3.998e-05},\n",
              " '1000shib': {},\n",
              " '1000troll': {'usd': 4.99e-06},\n",
              " '1000x-by-virtuals': {'usd': 0.0019384},\n",
              " '10-figs': {'usd': 5850.03},\n",
              " '1984-token': {'usd': 1.641e-05},\n",
              " '1art': {'usd': 0.00047154},\n",
              " '1-dollar-sol-coin': {'usd': 2.774e-05},\n",
              " '1ex': {'usd': 7.99999e-07},\n",
              " '1guy': {'usd': 0.00804531},\n",
              " '1hive-water': {'usd': 0.086638},\n",
              " '1hub-ai': {'usd': 3.231e-05},\n",
              " '1inch': {'usd': 0.260566},\n",
              " '1inch-yvault': {'usd': 0.27865},\n",
              " '1intro': {'usd': 0.00048503},\n",
              " '1mbabydoge': {'usd': 0.0013433},\n",
              " '1mdc': {'usd': 9.19595e-10},\n",
              " '1million-nfts': {'usd': 0.03023986},\n",
              " '1move token': {'usd': 0.00102633},\n",
              " '1-percent': {'usd': 5.505e-05},\n",
              " '1reward-token': {'usd': 0.04707431},\n",
              " '1rus-btc25': {'usd': 4.15526e-10},\n",
              " '1rus-dao': {'usd': 0.00016291},\n",
              " '1-squirrel': {'usd': 0.00052791},\n",
              " '2004-pepe': {'usd': 1.247e-05},\n",
              " '2025-token': {'usd': 1.649e-05},\n",
              " '2077-code': {'usd': 5.884e-05},\n",
              " '2080': {'usd': 0.00139259},\n",
              " '21million': {'usd': 0.03897204},\n",
              " '21x': {'usd': 1.05e-06},\n",
              " '23-turtles': {'usd': 1.474e-05},\n",
              " '2dai-io': {'usd': 3.298e-05},\n",
              " '2g-carbon-coin': {'usd': 0.00053292},\n",
              " '2moon': {'usd': 2.24e-06},\n",
              " '-3': {'usd': 2.28272e-07},\n",
              " '3000-token': {'usd': 2.28e-06},\n",
              " '360noscope420blazeit': {'usd': 0.0093843},\n",
              " '39a-fun': {'usd': 2.586e-05},\n",
              " '3a-lending-protocol': {'usd': 0.000181},\n",
              " '3dpass': {'usd': 0.00130145},\n",
              " '3space-art': {'usd': 0.0043279},\n",
              " '4': {'usd': 5.659e-05},\n",
              " '401k': {'usd': 0.00065888},\n",
              " '404-gen': {'usd': 7.12},\n",
              " '404ver': {'usd': 0.00052427},\n",
              " '42069coin': {'usd': 2.141e-05},\n",
              " '4-2-aminoethyl-benzene-1-2-diol': {'usd': 1.611e-05},\n",
              " '42-coin': {'usd': 70212},\n",
              " '4444-token': {'usd': 4.085e-05},\n",
              " '4547-token': {'usd': 2.672e-05},\n",
              " '47th-potus': {'usd': 3.36e-05},\n",
              " '4chan': {'usd': 6.7286e-14},\n",
              " '4everland': {'usd': 0.00471586},\n",
              " '4gentic': {'usd': 3.064e-05},\n",
              " '4-next-unicorn': {'usd': 0.00247963},\n",
              " '4tb-coin': {'usd': 0.00062992},\n",
              " '4tool-ai': {'usd': 0.00025868},\n",
              " '4trump': {'usd': 0.00041615},\n",
              " '4-way-mirror-money': {'usd': 101.0},\n",
              " '-5': {'usd': 0.00152657},\n",
              " '500m-piece-of-paper': {'usd': 2.919e-05},\n",
              " '589-token': {'usd': 0.00022934},\n",
              " '5ire': {'usd': 0.00043568},\n",
              " '5mc': {'usd': 0.0004199},\n",
              " '5tars': {'usd': 0.00129352},\n",
              " '5th-scape': {'usd': 0.0002313},\n",
              " '-6': {'usd': 0.00382522},\n",
              " '666-token': {'usd': 0.263939},\n",
              " '69420': {'usd': 0.00022008},\n",
              " '-7': {'usd': 0.00036857},\n",
              " '717ai-by-virtuals': {'usd': 7.968e-05},\n",
              " '777fuckilluminatiworldwid': {'usd': 0.00020124},\n",
              " '-8': {'usd': 1.337e-05},\n",
              " '8008-token': {'usd': 2.569e-05},\n",
              " '888coin': {'usd': 1.432e-05}}"
            ]
          },
          "metadata": {},
          "execution_count": 21
        }
      ]
    },
    {
      "cell_type": "code",
      "source": [
        "coin_ids = list(df['id'])[:100]\n",
        "price_url = f\"https://api.coingecko.com/api/v3/simple/price?ids={','.join(coin_ids)}&vs_currencies=usd\"\n",
        "response = requests.get(price_url)\n",
        "price_data = response.json()\n",
        "processed_data = [{'name': coin_id, 'usd': price_info['usd']} for coin_id, price_info in price_data.items()]\n",
        "price_df = pd.DataFrame(processed_data)\n"
      ],
      "metadata": {
        "id": "rM56KHD4UwSM",
        "colab": {
          "base_uri": "https://localhost:8080/",
          "height": 305
        },
        "outputId": "808d5b0f-9d8a-4060-bab4-eefaebc74358"
      },
      "execution_count": 20,
      "outputs": [
        {
          "output_type": "error",
          "ename": "KeyError",
          "evalue": "'usd'",
          "traceback": [
            "\u001b[0;31m---------------------------------------------------------------------------\u001b[0m",
            "\u001b[0;31mKeyError\u001b[0m                                  Traceback (most recent call last)",
            "\u001b[0;32m/tmp/ipython-input-4232206895.py\u001b[0m in \u001b[0;36m<cell line: 0>\u001b[0;34m()\u001b[0m\n\u001b[1;32m      3\u001b[0m \u001b[0mresponse\u001b[0m \u001b[0;34m=\u001b[0m \u001b[0mrequests\u001b[0m\u001b[0;34m.\u001b[0m\u001b[0mget\u001b[0m\u001b[0;34m(\u001b[0m\u001b[0mprice_url\u001b[0m\u001b[0;34m)\u001b[0m\u001b[0;34m\u001b[0m\u001b[0;34m\u001b[0m\u001b[0m\n\u001b[1;32m      4\u001b[0m \u001b[0mprice_data\u001b[0m \u001b[0;34m=\u001b[0m \u001b[0mresponse\u001b[0m\u001b[0;34m.\u001b[0m\u001b[0mjson\u001b[0m\u001b[0;34m(\u001b[0m\u001b[0;34m)\u001b[0m\u001b[0;34m\u001b[0m\u001b[0;34m\u001b[0m\u001b[0m\n\u001b[0;32m----> 5\u001b[0;31m \u001b[0mprocessed_data\u001b[0m \u001b[0;34m=\u001b[0m \u001b[0;34m[\u001b[0m\u001b[0;34m{\u001b[0m\u001b[0;34m'name'\u001b[0m\u001b[0;34m:\u001b[0m \u001b[0mcoin_id\u001b[0m\u001b[0;34m,\u001b[0m \u001b[0;34m'usd'\u001b[0m\u001b[0;34m:\u001b[0m \u001b[0mprice_info\u001b[0m\u001b[0;34m[\u001b[0m\u001b[0;34m'usd'\u001b[0m\u001b[0;34m]\u001b[0m\u001b[0;34m}\u001b[0m \u001b[0;32mfor\u001b[0m \u001b[0mcoin_id\u001b[0m\u001b[0;34m,\u001b[0m \u001b[0mprice_info\u001b[0m \u001b[0;32min\u001b[0m \u001b[0mprice_data\u001b[0m\u001b[0;34m.\u001b[0m\u001b[0mitems\u001b[0m\u001b[0;34m(\u001b[0m\u001b[0;34m)\u001b[0m\u001b[0;34m]\u001b[0m\u001b[0;34m\u001b[0m\u001b[0;34m\u001b[0m\u001b[0m\n\u001b[0m\u001b[1;32m      6\u001b[0m \u001b[0mprice_df\u001b[0m \u001b[0;34m=\u001b[0m \u001b[0mpd\u001b[0m\u001b[0;34m.\u001b[0m\u001b[0mDataFrame\u001b[0m\u001b[0;34m(\u001b[0m\u001b[0mprocessed_data\u001b[0m\u001b[0;34m)\u001b[0m\u001b[0;34m\u001b[0m\u001b[0;34m\u001b[0m\u001b[0m\n",
            "\u001b[0;32m/tmp/ipython-input-4232206895.py\u001b[0m in \u001b[0;36m<listcomp>\u001b[0;34m(.0)\u001b[0m\n\u001b[1;32m      3\u001b[0m \u001b[0mresponse\u001b[0m \u001b[0;34m=\u001b[0m \u001b[0mrequests\u001b[0m\u001b[0;34m.\u001b[0m\u001b[0mget\u001b[0m\u001b[0;34m(\u001b[0m\u001b[0mprice_url\u001b[0m\u001b[0;34m)\u001b[0m\u001b[0;34m\u001b[0m\u001b[0;34m\u001b[0m\u001b[0m\n\u001b[1;32m      4\u001b[0m \u001b[0mprice_data\u001b[0m \u001b[0;34m=\u001b[0m \u001b[0mresponse\u001b[0m\u001b[0;34m.\u001b[0m\u001b[0mjson\u001b[0m\u001b[0;34m(\u001b[0m\u001b[0;34m)\u001b[0m\u001b[0;34m\u001b[0m\u001b[0;34m\u001b[0m\u001b[0m\n\u001b[0;32m----> 5\u001b[0;31m \u001b[0mprocessed_data\u001b[0m \u001b[0;34m=\u001b[0m \u001b[0;34m[\u001b[0m\u001b[0;34m{\u001b[0m\u001b[0;34m'name'\u001b[0m\u001b[0;34m:\u001b[0m \u001b[0mcoin_id\u001b[0m\u001b[0;34m,\u001b[0m \u001b[0;34m'usd'\u001b[0m\u001b[0;34m:\u001b[0m \u001b[0mprice_info\u001b[0m\u001b[0;34m[\u001b[0m\u001b[0;34m'usd'\u001b[0m\u001b[0;34m]\u001b[0m\u001b[0;34m}\u001b[0m \u001b[0;32mfor\u001b[0m \u001b[0mcoin_id\u001b[0m\u001b[0;34m,\u001b[0m \u001b[0mprice_info\u001b[0m \u001b[0;32min\u001b[0m \u001b[0mprice_data\u001b[0m\u001b[0;34m.\u001b[0m\u001b[0mitems\u001b[0m\u001b[0;34m(\u001b[0m\u001b[0;34m)\u001b[0m\u001b[0;34m]\u001b[0m\u001b[0;34m\u001b[0m\u001b[0;34m\u001b[0m\u001b[0m\n\u001b[0m\u001b[1;32m      6\u001b[0m \u001b[0mprice_df\u001b[0m \u001b[0;34m=\u001b[0m \u001b[0mpd\u001b[0m\u001b[0;34m.\u001b[0m\u001b[0mDataFrame\u001b[0m\u001b[0;34m(\u001b[0m\u001b[0mprocessed_data\u001b[0m\u001b[0;34m)\u001b[0m\u001b[0;34m\u001b[0m\u001b[0;34m\u001b[0m\u001b[0m\n",
            "\u001b[0;31mKeyError\u001b[0m: 'usd'"
          ]
        }
      ]
    },
    {
      "cell_type": "markdown",
      "source": [
        "#**7) Veb sahifadan oʻqish**\n",
        "1. Pandas yordamida veb sahifadagi jadvalni yuklab oling.\n",
        "2. Ma’lumotlarni dataframe ko‘rinishida chiqaring.\n",
        "3. Agar sahifada bir nechta jadval bo‘lsa, eng muhimini tanlang.\n",
        "4. Ma’lumotni tozalang (bo‘sh qatorlarni olib tashlang, kerakli ustunlarni tanlang).\n",
        "5. Natijani CSV faylga saqlang.\n",
        "\n",
        "***Eslatma: manba sifatida oʻzingiz istagan veb sahifani tanlang. Bu vazifada mustaqil izlanishni oʻrganasiz!***"
      ],
      "metadata": {
        "id": "EOPTQR9Ecsyr"
      }
    },
    {
      "cell_type": "code",
      "source": [
        "#javobni shu yerda yozing."
      ],
      "metadata": {
        "id": "bc5Auaw1ehJn"
      },
      "execution_count": null,
      "outputs": []
    },
    {
      "cell_type": "markdown",
      "source": [
        "# **Maʼlumotlar ombori bilan ishlash**\n",
        "\n"
      ],
      "metadata": {
        "id": "zqaJ4HpNgCi2"
      }
    },
    {
      "cell_type": "markdown",
      "source": [
        "#**8) Maʼlumotlar omborini yuklash va ulanish**\n",
        "1. https://github.com/alishermutalov/praktikum-datasets/blob/praktikum/chinook.db havolasi orqali maʼlumotlar omborini yuklab oling.\n",
        "2. Yuklab olingan maʼlumotlar omboriga sqlite3 moduli yordamida **ulaning**."
      ],
      "metadata": {
        "id": "uBrVkZJyjNlQ"
      }
    },
    {
      "cell_type": "code",
      "source": [
        "!wget https://www.sqlitetutorial.net/wp-content/uploads/2018/03/chinook.zip\n",
        "!unzip \"chinook.zip\""
      ],
      "metadata": {
        "id": "ClYVXJ4Yl1ZS"
      },
      "execution_count": null,
      "outputs": []
    },
    {
      "cell_type": "code",
      "source": [
        "#javobni shu yerda yozing."
      ],
      "metadata": {
        "id": "A-2KwlKt9M82"
      },
      "execution_count": null,
      "outputs": []
    },
    {
      "cell_type": "markdown",
      "source": [
        "#**9) Maʼlumotlar omboriga soʻrov yuborish**\n",
        "1. Jadvallar roʻyxatini koʻring. Ularning ichida `albums` jadvali boʻlsa, shu jadvaldagi barcha maʼlumotlarni (qatorlarni) ekranga chiqaring.\n",
        "2. Qatorlar soni nechta ekanini aniqlab, uni ham ekranga chiqaring.\n",
        "3.`albums` jadvalining ustunlari haqidagi maʼlumotlarni ekranga chiqaring.\n"
      ],
      "metadata": {
        "id": "16Ec1cI1k_Nn"
      }
    },
    {
      "cell_type": "code",
      "source": [
        "#javobni shu yerda yozing."
      ],
      "metadata": {
        "id": "xg0gv6j7rhFj"
      },
      "execution_count": null,
      "outputs": []
    },
    {
      "cell_type": "markdown",
      "source": [
        "#**10) SQL to DataFrame**\n",
        "1. `albums` jadvalini `pandas.DataFrame` ga oʻtkazing!"
      ],
      "metadata": {
        "id": "QNcPSVlL_J81"
      }
    },
    {
      "cell_type": "code",
      "source": [
        "#javobni shu yerda yozing."
      ],
      "metadata": {
        "id": "0EESY6eLAkkO"
      },
      "execution_count": null,
      "outputs": []
    },
    {
      "cell_type": "markdown",
      "source": [
        "#**11)**  `chinook.db` maʼlumotlar omboridan `tracks` jadvalining birinchi 10 ta qatorini ekranga chiqaring\n",
        "\n",
        "#💡Ishora: LIMIT"
      ],
      "metadata": {
        "id": "da6KD4liAzdt"
      }
    },
    {
      "cell_type": "code",
      "source": [
        "#javobni shu yerda yozing."
      ],
      "metadata": {
        "id": "CMa3KYFrCXzy"
      },
      "execution_count": null,
      "outputs": []
    },
    {
      "cell_type": "markdown",
      "source": [
        "#**12)**`tracks` jadvalidan faqat `Name`, `Composer` ustunlarini tanlab oling!"
      ],
      "metadata": {
        "id": "BfuRKS09CdxM"
      }
    },
    {
      "cell_type": "code",
      "source": [
        "#javobni shu yerda yozing."
      ],
      "metadata": {
        "id": "2Hxdp3l1C-Db"
      },
      "execution_count": null,
      "outputs": []
    },
    {
      "cell_type": "markdown",
      "source": [
        "#**13) ORDER BY , DISTINCT**\n",
        "* `tracks` jadvalidagi takrorlanmaydigan `GenreId` qiymatlarini oling.\n",
        "* `tracks` jadvalidagi treklarni `Milliseconds` ustuni bo‘yicha kamayish tartibida saralang.\n",
        "\n",
        "#💡Ishora: ORDER BY , DISTINCT"
      ],
      "metadata": {
        "id": "gG0pOz8EDY3T"
      }
    },
    {
      "cell_type": "code",
      "source": [
        "#javobni shu yerda yozing."
      ],
      "metadata": {
        "id": "eTsTode-D8_n"
      },
      "execution_count": null,
      "outputs": []
    },
    {
      "cell_type": "markdown",
      "source": [
        "#**14) Filtering**\n",
        " * `invoices` jadvalidan `Total` summasi 10 dan katta bo‘lgan maʼlumotlarni tanlang.\n",
        "\n",
        "# 💡Ishora: WHERE"
      ],
      "metadata": {
        "id": "GKKa1zIZEOvG"
      }
    },
    {
      "cell_type": "code",
      "source": [
        "#javobni shu yerda yozing."
      ],
      "metadata": {
        "id": "tzRXkjMmFVRu"
      },
      "execution_count": null,
      "outputs": []
    },
    {
      "cell_type": "markdown",
      "source": [
        "#**15) CREATE and INSERT**\n",
        "* `chinook.db` maʼlumotlar omboriga `users` jadvali yarating. Jadval maydonlari (ustunlar):\n",
        "  * `id`\n",
        "  * `name`\n",
        "  * `birth_date`\n",
        "* Yaratilgan `users` jadvaliga quyidagi maʼlumotlarni qoʻshing:\n",
        "\n",
        "    * ```\n",
        "    [\n",
        "    ('Alice', 25), ('Bob', 30), ('Charlie', 35), ('David', 28), ('Eve', 22),\n",
        "    ('Frank', 40), ('Grace', 27), ('Hannah', 32), ('Ivy', 29), ('Jack', 31),\n",
        "    ('Kevin', 33), ('Liam', 26), ('Mia', 24), ('Noah', 36), ('Olivia', 23),\n",
        "    ('Peter', 39), ('Quinn', 37), ('Rachel', 34), ('Samuel', 41), ('Tina', 21)\n",
        "]\n",
        " ```\n",
        "\n",
        "#💡Ishora: CREATE TABLE, INSERT\n"
      ],
      "metadata": {
        "id": "Qf86zRqnFvW7"
      }
    },
    {
      "cell_type": "code",
      "source": [
        "#javobni shu yerda yozing."
      ],
      "metadata": {
        "id": "2BFAW6u6JEpl"
      },
      "execution_count": null,
      "outputs": []
    },
    {
      "cell_type": "markdown",
      "source": [
        "#**16) UPDATE and DELETE**\n",
        "* `users` jadvalidagi Alice ismli foydalanuvchining yoshini yangilang.\n",
        "* `users` jadvalidan Alice ismli foydalanuvchini o‘chiring."
      ],
      "metadata": {
        "id": "GQ9oFMJ3JiiS"
      }
    },
    {
      "cell_type": "code",
      "source": [
        "#javobni shu yerda yozing."
      ],
      "metadata": {
        "id": "Ixzz-ToXM0z_"
      },
      "execution_count": null,
      "outputs": []
    },
    {
      "cell_type": "markdown",
      "source": [
        "#**17) f-string yordamida SQL komandalarini yozish**\n",
        "* `customers` jadvalidan `FirstName` va `LastName` bo‘yicha qidiruv qiladigan f-string yozing."
      ],
      "metadata": {
        "id": "LmaRq4Q_M1mb"
      }
    },
    {
      "cell_type": "code",
      "source": [
        "#javobni shu yerda yozing."
      ],
      "metadata": {
        "id": "BseDMFbPOGmQ"
      },
      "execution_count": null,
      "outputs": []
    },
    {
      "cell_type": "markdown",
      "source": [
        "#**18)  AND and OR operators**\n",
        "\n",
        "* `invoices` jadvalidan `BillingCountry` Germaniya yoki Fransiya boʻlgan va `Total` summasi 5 dan katta bo‘lgan kerakli qatorlarni tanlang.\n",
        "\n",
        "#💡Ishora: AND, OR"
      ],
      "metadata": {
        "id": "BHa7GLe0O2Q8"
      }
    },
    {
      "cell_type": "code",
      "source": [
        "#javobni shu yerda yozing."
      ],
      "metadata": {
        "id": "J5lr15WgQ3V5"
      },
      "execution_count": null,
      "outputs": []
    },
    {
      "cell_type": "markdown",
      "source": [
        "#**19) BETWEEN and LIKE**\n",
        "\n",
        "* `invoices` jadvalidan `Total` summasi 5 dan 15 gacha bo‘lgan qatorlarni tanlang.\n",
        "* `customers` jadvalidan ismi `A` harfi bilan boshlanadigan foydalanuvchilarni tanlang."
      ],
      "metadata": {
        "id": "wQQmjjAOSCB2"
      }
    },
    {
      "cell_type": "code",
      "source": [
        "#javobni shu yerda yozing."
      ],
      "metadata": {
        "id": "djXd2b02SwhJ"
      },
      "execution_count": null,
      "outputs": []
    },
    {
      "cell_type": "markdown",
      "source": [
        "#**20) DataFrame to SQL**\n",
        "* Quyidagi maʼlumotlardan dataframe yarating.\n",
        "  ```\n",
        "  sales_data = {\n",
        "    \"sale_id\": list(range(1, 21)),  # 1 dan 20 gacha boʻlgan unikal IDʼlar\n",
        "    \"product_name\": [\n",
        "        \"Laptop\", \"Smartphone\", \"Tablet\", \"Headphones\", \"Smartwatch\",\n",
        "        \"Monitor\", \"Keyboard\", \"Mouse\", \"Printer\", \"Camera\",\n",
        "        \"Speaker\", \"Game Console\", \"TV\", \"Router\", \"Power Bank\",\n",
        "        \"Hard Drive\", \"USB Flash\", \"Graphics Card\", \"Microphone\", \"VR Headset\"\n",
        "    ],\n",
        "    \"quantity\": [2, 5, 3, 10, 4, 6, 8, 12, 3, 5, 7, 9, 4, 2, 11, 6, 15, 1, 3, 2],\n",
        "    \"price\": [1200, 800, 450, 200, 300, 500, 100, 50, 250, 700,\n",
        "              150, 400, 1000, 90, 60, 110, 30, 1500, 80, 600],\n",
        "    \"sale_date\": [\n",
        "        \"2025-03-01\", \"2025-03-02\", \"2025-03-03\", \"2025-03-04\", \"2025-03-05\",\n",
        "        \"2025-03-06\", \"2025-03-07\", \"2025-03-08\", \"2025-03-09\", \"2025-03-10\",\n",
        "        \"2025-03-11\", \"2025-03-12\", \"2025-03-13\", \"2025-03-14\", \"2025-03-15\",\n",
        "        \"2025-03-16\", \"2025-03-17\", \"2025-03-18\", \"2025-03-19\", \"2025-03-20\"\n",
        "    ]\n",
        "}\n",
        "```\n",
        "*Yuqoridagi maʼlumotlar asosida yaratgan dataframeʼingizdan SQL jadvali tuzing va uni `sales` deb nomlang."
      ],
      "metadata": {
        "id": "4mK0GuRTU9po"
      }
    },
    {
      "cell_type": "code",
      "source": [
        "#javobni shu yerda yozing."
      ],
      "metadata": {
        "id": "LVyPykvJZfWR"
      },
      "execution_count": null,
      "outputs": []
    }
  ]
}