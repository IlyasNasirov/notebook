{
  "nbformat": 4,
  "nbformat_minor": 0,
  "metadata": {
    "colab": {
      "provenance": [],
      "include_colab_link": true
    },
    "kernelspec": {
      "name": "python3",
      "display_name": "Python 3"
    },
    "language_info": {
      "name": "python"
    }
  },
  "cells": [
    {
      "cell_type": "markdown",
      "metadata": {
        "id": "view-in-github",
        "colab_type": "text"
      },
      "source": [
        "<a href=\"https://colab.research.google.com/github/IlyasNasirov/notebook/blob/main/10_MA%CA%BCLUMOTLARGA_ISHLOV_BERISH_10_25_YAKUNIY_AMALIY_VAZIFA.ipynb\" target=\"_parent\"><img src=\"https://colab.research.google.com/assets/colab-badge.svg\" alt=\"Open In Colab\"/></a>"
      ]
    },
    {
      "cell_type": "markdown",
      "source": [
        "![Imgur](https://i.imgur.com/h4PPC71.png)\n",
        "#**10-modul. Maʼlumotlarga ishlov berish. Fayllar va maʼlumotlar ombori**\n",
        "\n",
        "#**10.25. Modul boʻyicha yakuniy amaliy vazifa**\n",
        "\n",
        "**Amaliyotni bajargach, fayllar bilan ishlash, API va veb sahifalardan ma’lumot olish, SQL soʻrovlarini yozish va ma’lumotlar omboriga ma’lumot saqlash koʻnikmalariga ega boʻlasiz.**"
      ],
      "metadata": {
        "id": "qTu9BP7OGfBq"
      }
    },
    {
      "cell_type": "markdown",
      "source": [
        "#**Fayldan oʻqish va yozish**"
      ],
      "metadata": {
        "id": "2Znmz4tGY6UX"
      }
    },
    {
      "cell_type": "markdown",
      "source": [
        "#**1) CSV fayldan maʼlumotlarni o‘qish**\n",
        "* https://raw.githubusercontent.com/alishermutalov/praktikum-datasets/refs/heads/praktikum/data_date.csv havolasidagi maʼlumotlarni `df` oʻzgaruvchisiga saqlang!\n",
        "* `df` dan tasodifiy 10 ta qatorni ekranga chiqaring!"
      ],
      "metadata": {
        "id": "8tFQpa2tXFqH"
      }
    },
    {
      "cell_type": "code",
      "source": [
        "#javobni shu yerda yozing."
      ],
      "metadata": {
        "id": "CjbRW5t4GXyX"
      },
      "execution_count": null,
      "outputs": []
    },
    {
      "cell_type": "markdown",
      "source": [
        "#**2) CSV fayliga yozish**\n",
        "* Quyidagi maʼlumotlardan dataframe yarating va uni `people_data.csv` fayliga saqlang.\n",
        "```\n",
        "data = {\n",
        "    \"Name\": [\"Alice\", \"Bob\", \"Charlie\", \"David\", \"Eve\", \"Frank\", \"Grace\", \"Hannah\", \"Ivy\", \"Jack\"],\n",
        "    \"Age\": [25, 30, 35, 40, 28, 33, 38, 45, 29, 31],\n",
        "    \"City\": [\"Tashkent\", \"Samarkand\", \"Bukhara\", \"Andijan\", \"Nukus\", \"Khiva\", \"Namangan\", \"Fergana\", \"Jizzakh\", \"Termez\"]\n",
        "}\n",
        "```\n",
        "* Quyidagi maʼlumotlardan yana bir dataframe yarating va uni `people_data_2.csv` fayliga saqlang.\n",
        "```\n",
        "{\n",
        "'Name': ['Alice', 'Bob', 'Charlie'],\n",
        "'Age': [25, 30, 35]\n",
        "}\n",
        "```"
      ],
      "metadata": {
        "id": "iOl4-bYHZMKs"
      }
    },
    {
      "cell_type": "code",
      "source": [
        "#javobni shu yerda yozing."
      ],
      "metadata": {
        "id": "jwWVChQJaaGF"
      },
      "execution_count": null,
      "outputs": []
    },
    {
      "cell_type": "markdown",
      "source": [
        "#**3) HDF5 formati bilan ishlash**\n",
        "* Yuqorida yaratgan dataframeʼlaringizni `people.h5` faylida saqlang.\n",
        "* `people.h5` faylidagi barcha jadvallarni oʻqing!"
      ],
      "metadata": {
        "id": "0zLfcOsnajs1"
      }
    },
    {
      "cell_type": "code",
      "source": [
        "#javobni shu yerda yozing."
      ],
      "metadata": {
        "id": "MLt3Ia9yblg7"
      },
      "execution_count": null,
      "outputs": []
    },
    {
      "cell_type": "markdown",
      "source": [
        "#**4) JSON fayllar bilan ishlash**\n",
        "1. Quyidagi maʼlumotlarni dataframe koʻrinishida oʻqing va uni `data.json` fayliga yozing!\n",
        "```\n",
        "data = {\n",
        "    \"Name\": [\"Alice\", \"Bob\", \"Charlie\", \"David\", \"Eve\", \"Frank\", \"Grace\", \"Hannah\", \"Ivy\", \"Jack\"],\n",
        "    \"Age\": [25, 30, 35, 40, 28, 33, 38, 45, 29, 31],\n",
        "    \"City\": [\"Tashkent\", \"Samarkand\", \"Bukhara\", \"Andijan\", \"Nukus\", \"Khiva\", \"Namangan\", \"Fergana\", \"Jizzakh\", \"Termez\"]\n",
        "}\n",
        "```\n"
      ],
      "metadata": {
        "id": "yrVMDH4Eb7Nb"
      }
    },
    {
      "cell_type": "code",
      "source": [
        "#javobni shu yerda yozing."
      ],
      "metadata": {
        "id": "y9R_wLU0RqGI"
      },
      "execution_count": null,
      "outputs": []
    },
    {
      "cell_type": "markdown",
      "source": [
        "#**5) APIʼlar bilan ishlash**\n",
        "1. Quyida berilgan API 17 mingdan ortiq kriptovalyutalarning dollarga nisbatan narxi haqidagi maʼlumotlarni saqlaydi. Siz esa endi:\n",
        "  * API orqali barcha maʼlumotlarni yigʻib oling;\n",
        "  * ularni dataframe koʻrinishida saqlang;\n",
        "  * maʼlumotlar boshidan 5 ta qatorni ekranga chiqaring;\n",
        "  * maʼlumotlar ichidan `bitcoin` ni izlab toping!"
      ],
      "metadata": {
        "id": "and9JBOxTZi1"
      }
    },
    {
      "cell_type": "code",
      "source": [
        "coins_url = \"https://api.coingecko.com/api/v3/coins/list\"\n",
        "#javobni shu yerda yozing."
      ],
      "metadata": {
        "id": "hTiRN4GtUux1"
      },
      "execution_count": null,
      "outputs": []
    },
    {
      "cell_type": "markdown",
      "source": [
        "#**6) APIʼlar bilan ishlash**\n",
        "1. Yuqorida berilgan kriptovalyuta maʼlumotlaridan `id` ustunini roʻyxat koʻrinishida saqlang va bu roʻyxatga `coin_ids` deb nom bering.\n",
        "2. https://api.coingecko.com/api/v3/simple/price?ids={coin_ids}&vs_currencies=usd havolasi orqali kriptovalyutalarning `usd` ga nisbatini oling (birinchi 100 ta maʼlumotni olish yetarli).\n",
        "3. 2-shartda berilgan link orqali olingan maʼlumotlarni dataframe koʻrinishida saqlang. Bunda uning indeksi va `usd` ustuni boʻlsin. `index` -> kriptovalyutalar nomi, `usd` -> narxi\n",
        "\n",
        "#**💡Ishora:** linkdagi `{coin_ids}` oʻzgaruvchi sifatida yozilgan. Siz ham 1-shartda saqlagan `coin_ids` oʻzgaruvchingizni shu qismda yozib keting!\n"
      ],
      "metadata": {
        "id": "Adll0CODXw_C"
      }
    },
    {
      "cell_type": "code",
      "source": [
        "coin_ids = #Bu yerda kriptovalyutalar nomi saqlangan roʻyxat (list) boʻlishi kerak.\n",
        "price_url = f\"https://api.coingecko.com/api/v3/simple/price?ids={coin_ids}&vs_currencies=usd\"\n",
        "#javobni shu yerda yozing."
      ],
      "metadata": {
        "id": "rM56KHD4UwSM"
      },
      "execution_count": null,
      "outputs": []
    },
    {
      "cell_type": "markdown",
      "source": [
        "#**7) Veb sahifadan oʻqish**\n",
        "1. Pandas yordamida veb sahifadagi jadvalni yuklab oling.\n",
        "2. Ma’lumotlarni dataframe ko‘rinishida chiqaring.\n",
        "3. Agar sahifada bir nechta jadval bo‘lsa, eng muhimini tanlang.\n",
        "4. Ma’lumotni tozalang (bo‘sh qatorlarni olib tashlang, kerakli ustunlarni tanlang).\n",
        "5. Natijani CSV faylga saqlang.\n",
        "\n",
        "***Eslatma: manba sifatida oʻzingiz istagan veb sahifani tanlang. Bu vazifada mustaqil izlanishni oʻrganasiz!***"
      ],
      "metadata": {
        "id": "EOPTQR9Ecsyr"
      }
    },
    {
      "cell_type": "code",
      "source": [
        "#javobni shu yerda yozing."
      ],
      "metadata": {
        "id": "bc5Auaw1ehJn"
      },
      "execution_count": null,
      "outputs": []
    },
    {
      "cell_type": "markdown",
      "source": [
        "# **Maʼlumotlar ombori bilan ishlash**\n",
        "\n"
      ],
      "metadata": {
        "id": "zqaJ4HpNgCi2"
      }
    },
    {
      "cell_type": "markdown",
      "source": [
        "#**8) Maʼlumotlar omborini yuklash va ulanish**\n",
        "1. https://github.com/alishermutalov/praktikum-datasets/blob/praktikum/chinook.db havolasi orqali maʼlumotlar omborini yuklab oling.\n",
        "2. Yuklab olingan maʼlumotlar omboriga sqlite3 moduli yordamida **ulaning**."
      ],
      "metadata": {
        "id": "uBrVkZJyjNlQ"
      }
    },
    {
      "cell_type": "code",
      "source": [
        "!wget https://www.sqlitetutorial.net/wp-content/uploads/2018/03/chinook.zip\n",
        "!unzip \"chinook.zip\""
      ],
      "metadata": {
        "id": "ClYVXJ4Yl1ZS"
      },
      "execution_count": null,
      "outputs": []
    },
    {
      "cell_type": "code",
      "source": [
        "#javobni shu yerda yozing."
      ],
      "metadata": {
        "id": "A-2KwlKt9M82"
      },
      "execution_count": null,
      "outputs": []
    },
    {
      "cell_type": "markdown",
      "source": [
        "#**9) Maʼlumotlar omboriga soʻrov yuborish**\n",
        "1. Jadvallar roʻyxatini koʻring. Ularning ichida `albums` jadvali boʻlsa, shu jadvaldagi barcha maʼlumotlarni (qatorlarni) ekranga chiqaring.\n",
        "2. Qatorlar soni nechta ekanini aniqlab, uni ham ekranga chiqaring.\n",
        "3.`albums` jadvalining ustunlari haqidagi maʼlumotlarni ekranga chiqaring.\n"
      ],
      "metadata": {
        "id": "16Ec1cI1k_Nn"
      }
    },
    {
      "cell_type": "code",
      "source": [
        "#javobni shu yerda yozing."
      ],
      "metadata": {
        "id": "xg0gv6j7rhFj"
      },
      "execution_count": null,
      "outputs": []
    },
    {
      "cell_type": "markdown",
      "source": [
        "#**10) SQL to DataFrame**\n",
        "1. `albums` jadvalini `pandas.DataFrame` ga oʻtkazing!"
      ],
      "metadata": {
        "id": "QNcPSVlL_J81"
      }
    },
    {
      "cell_type": "code",
      "source": [
        "#javobni shu yerda yozing."
      ],
      "metadata": {
        "id": "0EESY6eLAkkO"
      },
      "execution_count": null,
      "outputs": []
    },
    {
      "cell_type": "markdown",
      "source": [
        "#**11)**  `chinook.db` maʼlumotlar omboridan `tracks` jadvalining birinchi 10 ta qatorini ekranga chiqaring\n",
        "\n",
        "#💡Ishora: LIMIT"
      ],
      "metadata": {
        "id": "da6KD4liAzdt"
      }
    },
    {
      "cell_type": "code",
      "source": [
        "#javobni shu yerda yozing."
      ],
      "metadata": {
        "id": "CMa3KYFrCXzy"
      },
      "execution_count": null,
      "outputs": []
    },
    {
      "cell_type": "markdown",
      "source": [
        "#**12)**`tracks` jadvalidan faqat `Name`, `Composer` ustunlarini tanlab oling!"
      ],
      "metadata": {
        "id": "BfuRKS09CdxM"
      }
    },
    {
      "cell_type": "code",
      "source": [
        "#javobni shu yerda yozing."
      ],
      "metadata": {
        "id": "2Hxdp3l1C-Db"
      },
      "execution_count": null,
      "outputs": []
    },
    {
      "cell_type": "markdown",
      "source": [
        "#**13) ORDER BY , DISTINCT**\n",
        "* `tracks` jadvalidagi takrorlanmaydigan `GenreId` qiymatlarini oling.\n",
        "* `tracks` jadvalidagi treklarni `Milliseconds` ustuni bo‘yicha kamayish tartibida saralang.\n",
        "\n",
        "#💡Ishora: ORDER BY , DISTINCT"
      ],
      "metadata": {
        "id": "gG0pOz8EDY3T"
      }
    },
    {
      "cell_type": "code",
      "source": [
        "#javobni shu yerda yozing."
      ],
      "metadata": {
        "id": "eTsTode-D8_n"
      },
      "execution_count": null,
      "outputs": []
    },
    {
      "cell_type": "markdown",
      "source": [
        "#**14) Filtering**\n",
        " * `invoices` jadvalidan `Total` summasi 10 dan katta bo‘lgan maʼlumotlarni tanlang.\n",
        "\n",
        "# 💡Ishora: WHERE"
      ],
      "metadata": {
        "id": "GKKa1zIZEOvG"
      }
    },
    {
      "cell_type": "code",
      "source": [
        "#javobni shu yerda yozing."
      ],
      "metadata": {
        "id": "tzRXkjMmFVRu"
      },
      "execution_count": null,
      "outputs": []
    },
    {
      "cell_type": "markdown",
      "source": [
        "#**15) CREATE and INSERT**\n",
        "* `chinook.db` maʼlumotlar omboriga `users` jadvali yarating. Jadval maydonlari (ustunlar):\n",
        "  * `id`\n",
        "  * `name`\n",
        "  * `birth_date`\n",
        "* Yaratilgan `users` jadvaliga quyidagi maʼlumotlarni qoʻshing:\n",
        "\n",
        "    * ```\n",
        "    [\n",
        "    ('Alice', 25), ('Bob', 30), ('Charlie', 35), ('David', 28), ('Eve', 22),\n",
        "    ('Frank', 40), ('Grace', 27), ('Hannah', 32), ('Ivy', 29), ('Jack', 31),\n",
        "    ('Kevin', 33), ('Liam', 26), ('Mia', 24), ('Noah', 36), ('Olivia', 23),\n",
        "    ('Peter', 39), ('Quinn', 37), ('Rachel', 34), ('Samuel', 41), ('Tina', 21)\n",
        "]\n",
        " ```\n",
        "\n",
        "#💡Ishora: CREATE TABLE, INSERT\n"
      ],
      "metadata": {
        "id": "Qf86zRqnFvW7"
      }
    },
    {
      "cell_type": "code",
      "source": [
        "#javobni shu yerda yozing."
      ],
      "metadata": {
        "id": "2BFAW6u6JEpl"
      },
      "execution_count": null,
      "outputs": []
    },
    {
      "cell_type": "markdown",
      "source": [
        "#**16) UPDATE and DELETE**\n",
        "* `users` jadvalidagi Alice ismli foydalanuvchining yoshini yangilang.\n",
        "* `users` jadvalidan Alice ismli foydalanuvchini o‘chiring."
      ],
      "metadata": {
        "id": "GQ9oFMJ3JiiS"
      }
    },
    {
      "cell_type": "code",
      "source": [
        "#javobni shu yerda yozing."
      ],
      "metadata": {
        "id": "Ixzz-ToXM0z_"
      },
      "execution_count": null,
      "outputs": []
    },
    {
      "cell_type": "markdown",
      "source": [
        "#**17) f-string yordamida SQL komandalarini yozish**\n",
        "* `customers` jadvalidan `FirstName` va `LastName` bo‘yicha qidiruv qiladigan f-string yozing."
      ],
      "metadata": {
        "id": "LmaRq4Q_M1mb"
      }
    },
    {
      "cell_type": "code",
      "source": [
        "#javobni shu yerda yozing."
      ],
      "metadata": {
        "id": "BseDMFbPOGmQ"
      },
      "execution_count": null,
      "outputs": []
    },
    {
      "cell_type": "markdown",
      "source": [
        "#**18)  AND and OR operators**\n",
        "\n",
        "* `invoices` jadvalidan `BillingCountry` Germaniya yoki Fransiya boʻlgan va `Total` summasi 5 dan katta bo‘lgan kerakli qatorlarni tanlang.\n",
        "\n",
        "#💡Ishora: AND, OR"
      ],
      "metadata": {
        "id": "BHa7GLe0O2Q8"
      }
    },
    {
      "cell_type": "code",
      "source": [
        "#javobni shu yerda yozing."
      ],
      "metadata": {
        "id": "J5lr15WgQ3V5"
      },
      "execution_count": null,
      "outputs": []
    },
    {
      "cell_type": "markdown",
      "source": [
        "#**19) BETWEEN and LIKE**\n",
        "\n",
        "* `invoices` jadvalidan `Total` summasi 5 dan 15 gacha bo‘lgan qatorlarni tanlang.\n",
        "* `customers` jadvalidan ismi `A` harfi bilan boshlanadigan foydalanuvchilarni tanlang."
      ],
      "metadata": {
        "id": "wQQmjjAOSCB2"
      }
    },
    {
      "cell_type": "code",
      "source": [
        "#javobni shu yerda yozing."
      ],
      "metadata": {
        "id": "djXd2b02SwhJ"
      },
      "execution_count": null,
      "outputs": []
    },
    {
      "cell_type": "markdown",
      "source": [
        "#**20) DataFrame to SQL**\n",
        "* Quyidagi maʼlumotlardan dataframe yarating.\n",
        "  ```\n",
        "  sales_data = {\n",
        "    \"sale_id\": list(range(1, 21)),  # 1 dan 20 gacha boʻlgan unikal IDʼlar\n",
        "    \"product_name\": [\n",
        "        \"Laptop\", \"Smartphone\", \"Tablet\", \"Headphones\", \"Smartwatch\",\n",
        "        \"Monitor\", \"Keyboard\", \"Mouse\", \"Printer\", \"Camera\",\n",
        "        \"Speaker\", \"Game Console\", \"TV\", \"Router\", \"Power Bank\",\n",
        "        \"Hard Drive\", \"USB Flash\", \"Graphics Card\", \"Microphone\", \"VR Headset\"\n",
        "    ],\n",
        "    \"quantity\": [2, 5, 3, 10, 4, 6, 8, 12, 3, 5, 7, 9, 4, 2, 11, 6, 15, 1, 3, 2],\n",
        "    \"price\": [1200, 800, 450, 200, 300, 500, 100, 50, 250, 700,\n",
        "              150, 400, 1000, 90, 60, 110, 30, 1500, 80, 600],\n",
        "    \"sale_date\": [\n",
        "        \"2025-03-01\", \"2025-03-02\", \"2025-03-03\", \"2025-03-04\", \"2025-03-05\",\n",
        "        \"2025-03-06\", \"2025-03-07\", \"2025-03-08\", \"2025-03-09\", \"2025-03-10\",\n",
        "        \"2025-03-11\", \"2025-03-12\", \"2025-03-13\", \"2025-03-14\", \"2025-03-15\",\n",
        "        \"2025-03-16\", \"2025-03-17\", \"2025-03-18\", \"2025-03-19\", \"2025-03-20\"\n",
        "    ]\n",
        "}\n",
        "```\n",
        "*Yuqoridagi maʼlumotlar asosida yaratgan dataframeʼingizdan SQL jadvali tuzing va uni `sales` deb nomlang."
      ],
      "metadata": {
        "id": "4mK0GuRTU9po"
      }
    },
    {
      "cell_type": "code",
      "source": [
        "#javobni shu yerda yozing."
      ],
      "metadata": {
        "id": "LVyPykvJZfWR"
      },
      "execution_count": null,
      "outputs": []
    }
  ]
}