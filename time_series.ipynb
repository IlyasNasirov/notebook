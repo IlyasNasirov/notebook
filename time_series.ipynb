{
  "nbformat": 4,
  "nbformat_minor": 0,
  "metadata": {
    "colab": {
      "provenance": []
    },
    "kernelspec": {
      "name": "python3",
      "display_name": "Python 3"
    },
    "language_info": {
      "name": "python"
    }
  },
  "cells": [
    {
      "cell_type": "code",
      "execution_count": null,
      "metadata": {
        "id": "M-NQWmxlC6sP"
      },
      "outputs": [],
      "source": [
        "from pyspark.sql import SparkSession\n",
        "from pyspark.sql.functions import col, to_date, to_timestamp, sum, lag\n",
        "from pyspark.sql.window import Window\n",
        "from pyspark.ml.feature import StringIndexer, VectorAssembler\n",
        "from pyspark.ml.regression import GBTRegressor\n",
        "from pyspark.ml import Pipeline\n",
        "from pyspark.ml.evaluation import RegressionEvaluator"
      ]
    },
    {
      "cell_type": "code",
      "source": [
        "spark = SparkSession.builder.appName('Sales').getOrCreate()"
      ],
      "metadata": {
        "id": "rxzzuDbOCQQa"
      },
      "execution_count": null,
      "outputs": []
    },
    {
      "cell_type": "code",
      "source": [
        "df = spark.read.csv('/content/Online Retail.csv', header=True, inferSchema=True)"
      ],
      "metadata": {
        "id": "JImBsNxPCuSs"
      },
      "execution_count": null,
      "outputs": []
    },
    {
      "cell_type": "code",
      "source": [
        "df.show()"
      ],
      "metadata": {
        "colab": {
          "base_uri": "https://localhost:8080/"
        },
        "id": "gBhAICeXC_7g",
        "outputId": "71ccfdcd-0e5e-4dc7-c848-24ee30689fe4"
      },
      "execution_count": null,
      "outputs": [
        {
          "output_type": "stream",
          "name": "stdout",
          "text": [
            "+---------+---------+--------------------+--------+---------+----------+--------------+-------------------+----+-----+----+---+---------+\n",
            "|InvoiceNo|StockCode|         Description|Quantity|UnitPrice|CustomerID|       Country|        InvoiceDate|Year|Month|Week|Day|DayOfWeek|\n",
            "+---------+---------+--------------------+--------+---------+----------+--------------+-------------------+----+-----+----+---+---------+\n",
            "|   536365|   85123A|WHITE HANGING HEA...|       6|     2.55|     17850|United Kingdom|2010-01-12 08:26:00|2010|    1|   2| 12|        1|\n",
            "|   536365|    71053| WHITE METAL LANTERN|       6|     3.39|     17850|United Kingdom|2010-01-12 08:26:00|2010|    1|   2| 12|        1|\n",
            "|   536365|   84406B|CREAM CUPID HEART...|       8|     2.75|     17850|United Kingdom|2010-01-12 08:26:00|2010|    1|   2| 12|        1|\n",
            "|   536365|   84029G|KNITTED UNION FLA...|       6|     3.39|     17850|United Kingdom|2010-01-12 08:26:00|2010|    1|   2| 12|        1|\n",
            "|   536365|   84029E|RED WOOLLY HOTTIE...|       6|     3.39|     17850|United Kingdom|2010-01-12 08:26:00|2010|    1|   2| 12|        1|\n",
            "|   536365|    22752|SET 7 BABUSHKA NE...|       2|     7.65|     17850|United Kingdom|2010-01-12 08:26:00|2010|    1|   2| 12|        1|\n",
            "|   536365|    21730|GLASS STAR FROSTE...|       6|     4.25|     17850|United Kingdom|2010-01-12 08:26:00|2010|    1|   2| 12|        1|\n",
            "|   536366|    22633|HAND WARMER UNION...|       6|     1.85|     17850|United Kingdom|2010-01-12 08:28:00|2010|    1|   2| 12|        1|\n",
            "|   536366|    22632|HAND WARMER RED P...|       6|     1.85|     17850|United Kingdom|2010-01-12 08:28:00|2010|    1|   2| 12|        1|\n",
            "|   536367|    84879|ASSORTED COLOUR B...|      32|     1.69|     13047|United Kingdom|2010-01-12 08:34:00|2010|    1|   2| 12|        1|\n",
            "|   536367|    22745|POPPY'S PLAYHOUSE...|       6|      2.1|     13047|United Kingdom|2010-01-12 08:34:00|2010|    1|   2| 12|        1|\n",
            "|   536367|    22748|POPPY'S PLAYHOUSE...|       6|      2.1|     13047|United Kingdom|2010-01-12 08:34:00|2010|    1|   2| 12|        1|\n",
            "|   536367|    22749|FELTCRAFT PRINCES...|       8|     3.75|     13047|United Kingdom|2010-01-12 08:34:00|2010|    1|   2| 12|        1|\n",
            "|   536367|    22310|IVORY KNITTED MUG...|       6|     1.65|     13047|United Kingdom|2010-01-12 08:34:00|2010|    1|   2| 12|        1|\n",
            "|   536367|    84969|BOX OF 6 ASSORTED...|       6|     4.25|     13047|United Kingdom|2010-01-12 08:34:00|2010|    1|   2| 12|        1|\n",
            "|   536367|    22623|BOX OF VINTAGE JI...|       3|     4.95|     13047|United Kingdom|2010-01-12 08:34:00|2010|    1|   2| 12|        1|\n",
            "|   536367|    22622|BOX OF VINTAGE AL...|       2|     9.95|     13047|United Kingdom|2010-01-12 08:34:00|2010|    1|   2| 12|        1|\n",
            "|   536367|    21754|HOME BUILDING BLO...|       3|     5.95|     13047|United Kingdom|2010-01-12 08:34:00|2010|    1|   2| 12|        1|\n",
            "|   536367|    21755|LOVE BUILDING BLO...|       3|     5.95|     13047|United Kingdom|2010-01-12 08:34:00|2010|    1|   2| 12|        1|\n",
            "|   536367|    21777|RECIPE BOX WITH M...|       4|     7.95|     13047|United Kingdom|2010-01-12 08:34:00|2010|    1|   2| 12|        1|\n",
            "+---------+---------+--------------------+--------+---------+----------+--------------+-------------------+----+-----+----+---+---------+\n",
            "only showing top 20 rows\n",
            "\n"
          ]
        }
      ]
    },
    {
      "cell_type": "code",
      "source": [
        "df = df.withColumn('InvoiceDate', to_timestamp(col('InvoiceDate'), 'MM/dd/yyyy HH:mm'))"
      ],
      "metadata": {
        "id": "dC9tZbTKDRTm"
      },
      "execution_count": null,
      "outputs": []
    },
    {
      "cell_type": "code",
      "source": [
        "df = df.filter((col('Quantity') > 0) & (col('UnitPrice') < 30))"
      ],
      "metadata": {
        "id": "vh7LEPLXEfJo"
      },
      "execution_count": null,
      "outputs": []
    },
    {
      "cell_type": "code",
      "source": [
        "grouped_df = df.groupBy('StockCode', 'Country', 'InvoiceDate').agg(sum('Quantity').alias('TotalQuantity'), sum('UnitPrice').alias('UnitPriceTotal'))"
      ],
      "metadata": {
        "id": "QeSy4f5xFizM"
      },
      "execution_count": null,
      "outputs": []
    },
    {
      "cell_type": "code",
      "source": [
        "grouped_df.show()"
      ],
      "metadata": {
        "colab": {
          "base_uri": "https://localhost:8080/"
        },
        "id": "ju-PPj9eGoeF",
        "outputId": "57e1167b-cf9b-4519-a715-8d2113ba61ee"
      },
      "execution_count": null,
      "outputs": [
        {
          "output_type": "stream",
          "name": "stdout",
          "text": [
            "+---------+--------------+-------------------+-------------+--------------+\n",
            "|StockCode|       Country|        InvoiceDate|TotalQuantity|UnitPriceTotal|\n",
            "+---------+--------------+-------------------+-------------+--------------+\n",
            "|    22900|United Kingdom|2010-01-12 11:45:00|            2|           5.9|\n",
            "|    22926|United Kingdom|2010-01-12 12:43:00|            1|          5.95|\n",
            "|    22963|United Kingdom|2010-01-12 13:17:00|            2|          0.85|\n",
            "|   46000S|United Kingdom|2010-01-12 14:41:00|            1|          1.45|\n",
            "|    21486|United Kingdom|2010-01-12 14:41:00|            2|          3.75|\n",
            "|    37449|United Kingdom|2010-01-12 15:08:00|            6|          19.9|\n",
            "|    21070|United Kingdom|2010-02-12 10:39:00|           12|          1.25|\n",
            "|    82483|United Kingdom|2010-02-12 10:54:00|            4|          4.95|\n",
            "|    82482|United Kingdom|2010-02-12 12:23:00|            6|           2.1|\n",
            "|    84945|United Kingdom|2010-02-12 13:11:00|           12|          0.85|\n",
            "|    22191|United Kingdom|2010-02-12 13:45:00|            6|           8.5|\n",
            "|    21539|United Kingdom|2010-02-12 18:08:00|            3|          4.95|\n",
            "|    21915|        France|2010-03-12 13:59:00|           12|          1.25|\n",
            "|    22748|        France|2010-03-12 13:59:00|            6|           2.1|\n",
            "|    22079|United Kingdom|2010-05-12 11:02:00|            1|          1.65|\n",
            "|    22737|United Kingdom|2010-05-12 11:40:00|            1|          1.65|\n",
            "|    21892|        France|2010-05-12 11:57:00|           12|          1.25|\n",
            "|    22974|United Kingdom|2010-05-12 12:08:00|            6|          1.65|\n",
            "|    21238|United Kingdom|2010-05-12 12:13:00|            1|          0.85|\n",
            "|    21218|United Kingdom|2010-05-12 12:13:00|            1|          3.75|\n",
            "+---------+--------------+-------------------+-------------+--------------+\n",
            "only showing top 20 rows\n",
            "\n"
          ]
        }
      ]
    },
    {
      "cell_type": "code",
      "source": [],
      "metadata": {
        "id": "Wbe8wmOIHi3b"
      },
      "execution_count": null,
      "outputs": []
    }
  ]
}